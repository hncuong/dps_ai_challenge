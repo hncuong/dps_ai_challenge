{
 "cells": [
  {
   "cell_type": "code",
   "execution_count": 1,
   "id": "9e728301",
   "metadata": {},
   "outputs": [
    {
     "name": "stderr",
     "output_type": "stream",
     "text": [
      "/Users/cuonghn/opt/miniconda3/envs/visualize/lib/python3.9/site-packages/scipy/__init__.py:146: UserWarning: A NumPy version >=1.16.5 and <1.23.0 is required for this version of SciPy (detected version 1.23.1\n",
      "  warnings.warn(f\"A NumPy version >={np_minversion} and <{np_maxversion}\"\n"
     ]
    }
   ],
   "source": [
    "# Import libraries\n",
    "import pandas as pd\n",
    "import numpy as np\n",
    "import matplotlib.pyplot as plt\n",
    "#\n",
    "# Load AutoReg class from statsmodels.tsa.ar_model module\n",
    "#\n",
    "from statsmodels.tsa.ar_model import AutoReg"
   ]
  },
  {
   "cell_type": "markdown",
   "id": "02e4db1b",
   "metadata": {},
   "source": [
    "# Load data + preparing data for modelling"
   ]
  },
  {
   "cell_type": "code",
   "execution_count": 2,
   "id": "9c45f6ba",
   "metadata": {},
   "outputs": [
    {
     "data": {
      "text/html": [
       "<div>\n",
       "<style scoped>\n",
       "    .dataframe tbody tr th:only-of-type {\n",
       "        vertical-align: middle;\n",
       "    }\n",
       "\n",
       "    .dataframe tbody tr th {\n",
       "        vertical-align: top;\n",
       "    }\n",
       "\n",
       "    .dataframe thead th {\n",
       "        text-align: right;\n",
       "    }\n",
       "</style>\n",
       "<table border=\"1\" class=\"dataframe\">\n",
       "  <thead>\n",
       "    <tr style=\"text-align: right;\">\n",
       "      <th></th>\n",
       "      <th>MONATSZAHL</th>\n",
       "      <th>AUSPRAEGUNG</th>\n",
       "      <th>JAHR</th>\n",
       "      <th>MONAT</th>\n",
       "      <th>WERT</th>\n",
       "      <th>VORJAHRESWERT</th>\n",
       "      <th>VERAEND_VORMONAT_PROZENT</th>\n",
       "      <th>VERAEND_VORJAHRESMONAT_PROZENT</th>\n",
       "      <th>ZWOELF_MONATE_MITTELWERT</th>\n",
       "    </tr>\n",
       "  </thead>\n",
       "  <tbody>\n",
       "    <tr>\n",
       "      <th>0</th>\n",
       "      <td>Alkoholunfälle</td>\n",
       "      <td>insgesamt</td>\n",
       "      <td>2022</td>\n",
       "      <td>202201</td>\n",
       "      <td>NaN</td>\n",
       "      <td>16.0</td>\n",
       "      <td>NaN</td>\n",
       "      <td>NaN</td>\n",
       "      <td>NaN</td>\n",
       "    </tr>\n",
       "    <tr>\n",
       "      <th>1</th>\n",
       "      <td>Alkoholunfälle</td>\n",
       "      <td>insgesamt</td>\n",
       "      <td>2022</td>\n",
       "      <td>202202</td>\n",
       "      <td>NaN</td>\n",
       "      <td>14.0</td>\n",
       "      <td>NaN</td>\n",
       "      <td>NaN</td>\n",
       "      <td>NaN</td>\n",
       "    </tr>\n",
       "    <tr>\n",
       "      <th>2</th>\n",
       "      <td>Alkoholunfälle</td>\n",
       "      <td>insgesamt</td>\n",
       "      <td>2022</td>\n",
       "      <td>202203</td>\n",
       "      <td>NaN</td>\n",
       "      <td>24.0</td>\n",
       "      <td>NaN</td>\n",
       "      <td>NaN</td>\n",
       "      <td>NaN</td>\n",
       "    </tr>\n",
       "    <tr>\n",
       "      <th>3</th>\n",
       "      <td>Alkoholunfälle</td>\n",
       "      <td>insgesamt</td>\n",
       "      <td>2022</td>\n",
       "      <td>202204</td>\n",
       "      <td>NaN</td>\n",
       "      <td>16.0</td>\n",
       "      <td>NaN</td>\n",
       "      <td>NaN</td>\n",
       "      <td>NaN</td>\n",
       "    </tr>\n",
       "    <tr>\n",
       "      <th>4</th>\n",
       "      <td>Alkoholunfälle</td>\n",
       "      <td>insgesamt</td>\n",
       "      <td>2022</td>\n",
       "      <td>202205</td>\n",
       "      <td>NaN</td>\n",
       "      <td>24.0</td>\n",
       "      <td>NaN</td>\n",
       "      <td>NaN</td>\n",
       "      <td>NaN</td>\n",
       "    </tr>\n",
       "  </tbody>\n",
       "</table>\n",
       "</div>"
      ],
      "text/plain": [
       "       MONATSZAHL AUSPRAEGUNG  JAHR   MONAT  WERT  VORJAHRESWERT  \\\n",
       "0  Alkoholunfälle   insgesamt  2022  202201   NaN           16.0   \n",
       "1  Alkoholunfälle   insgesamt  2022  202202   NaN           14.0   \n",
       "2  Alkoholunfälle   insgesamt  2022  202203   NaN           24.0   \n",
       "3  Alkoholunfälle   insgesamt  2022  202204   NaN           16.0   \n",
       "4  Alkoholunfälle   insgesamt  2022  202205   NaN           24.0   \n",
       "\n",
       "   VERAEND_VORMONAT_PROZENT  VERAEND_VORJAHRESMONAT_PROZENT  \\\n",
       "0                       NaN                             NaN   \n",
       "1                       NaN                             NaN   \n",
       "2                       NaN                             NaN   \n",
       "3                       NaN                             NaN   \n",
       "4                       NaN                             NaN   \n",
       "\n",
       "   ZWOELF_MONATE_MITTELWERT  \n",
       "0                       NaN  \n",
       "1                       NaN  \n",
       "2                       NaN  \n",
       "3                       NaN  \n",
       "4                       NaN  "
      ]
     },
     "execution_count": 2,
     "metadata": {},
     "output_type": "execute_result"
    }
   ],
   "source": [
    "acc = pd.read_csv('220511_monatszahlenmonatszahlen2204_verkehrsunfaelle.csv')\n",
    "acc.head()"
   ]
  },
  {
   "cell_type": "code",
   "execution_count": 68,
   "id": "374b8fc5",
   "metadata": {},
   "outputs": [
    {
     "data": {
      "text/plain": [
       "insgesamt                 894\n",
       "Verletzte und Getötete    894\n",
       "mit Personenschäden       298\n",
       "Name: AUSPRAEGUNG, dtype: int64"
      ]
     },
     "execution_count": 68,
     "metadata": {},
     "output_type": "execute_result"
    }
   ],
   "source": [
    "acc.AUSPRAEGUNG.value_counts()"
   ]
  },
  {
   "cell_type": "code",
   "execution_count": 3,
   "id": "c8f80453",
   "metadata": {},
   "outputs": [],
   "source": [
    "acc1 = acc[acc.WERT.notna()]"
   ]
  },
  {
   "cell_type": "code",
   "execution_count": 4,
   "id": "12f4b121",
   "metadata": {},
   "outputs": [],
   "source": [
    "acc1 = acc1[acc1.MONAT != 'Summe']"
   ]
  },
  {
   "cell_type": "code",
   "execution_count": 5,
   "id": "48c66848",
   "metadata": {
    "scrolled": true
   },
   "outputs": [
    {
     "data": {
      "text/html": [
       "<div>\n",
       "<style scoped>\n",
       "    .dataframe tbody tr th:only-of-type {\n",
       "        vertical-align: middle;\n",
       "    }\n",
       "\n",
       "    .dataframe tbody tr th {\n",
       "        vertical-align: top;\n",
       "    }\n",
       "\n",
       "    .dataframe thead th {\n",
       "        text-align: right;\n",
       "    }\n",
       "</style>\n",
       "<table border=\"1\" class=\"dataframe\">\n",
       "  <thead>\n",
       "    <tr style=\"text-align: right;\">\n",
       "      <th></th>\n",
       "      <th>MONATSZAHL</th>\n",
       "      <th>AUSPRAEGUNG</th>\n",
       "      <th>JAHR</th>\n",
       "      <th>MONAT</th>\n",
       "      <th>WERT</th>\n",
       "      <th>VORJAHRESWERT</th>\n",
       "      <th>VERAEND_VORMONAT_PROZENT</th>\n",
       "      <th>VERAEND_VORJAHRESMONAT_PROZENT</th>\n",
       "      <th>ZWOELF_MONATE_MITTELWERT</th>\n",
       "      <th>MONTH</th>\n",
       "    </tr>\n",
       "  </thead>\n",
       "  <tbody>\n",
       "    <tr>\n",
       "      <th>13</th>\n",
       "      <td>Alkoholunfälle</td>\n",
       "      <td>insgesamt</td>\n",
       "      <td>2021</td>\n",
       "      <td>202101</td>\n",
       "      <td>16.0</td>\n",
       "      <td>28.0</td>\n",
       "      <td>23.08</td>\n",
       "      <td>-42.86</td>\n",
       "      <td>35.0</td>\n",
       "      <td>2021-01-01</td>\n",
       "    </tr>\n",
       "    <tr>\n",
       "      <th>14</th>\n",
       "      <td>Alkoholunfälle</td>\n",
       "      <td>insgesamt</td>\n",
       "      <td>2021</td>\n",
       "      <td>202102</td>\n",
       "      <td>14.0</td>\n",
       "      <td>40.0</td>\n",
       "      <td>-12.50</td>\n",
       "      <td>-65.00</td>\n",
       "      <td>33.0</td>\n",
       "      <td>2021-02-01</td>\n",
       "    </tr>\n",
       "    <tr>\n",
       "      <th>15</th>\n",
       "      <td>Alkoholunfälle</td>\n",
       "      <td>insgesamt</td>\n",
       "      <td>2021</td>\n",
       "      <td>202103</td>\n",
       "      <td>24.0</td>\n",
       "      <td>27.0</td>\n",
       "      <td>71.43</td>\n",
       "      <td>-11.11</td>\n",
       "      <td>32.0</td>\n",
       "      <td>2021-03-01</td>\n",
       "    </tr>\n",
       "    <tr>\n",
       "      <th>16</th>\n",
       "      <td>Alkoholunfälle</td>\n",
       "      <td>insgesamt</td>\n",
       "      <td>2021</td>\n",
       "      <td>202104</td>\n",
       "      <td>16.0</td>\n",
       "      <td>26.0</td>\n",
       "      <td>-33.33</td>\n",
       "      <td>-38.46</td>\n",
       "      <td>32.0</td>\n",
       "      <td>2021-04-01</td>\n",
       "    </tr>\n",
       "    <tr>\n",
       "      <th>17</th>\n",
       "      <td>Alkoholunfälle</td>\n",
       "      <td>insgesamt</td>\n",
       "      <td>2021</td>\n",
       "      <td>202105</td>\n",
       "      <td>24.0</td>\n",
       "      <td>40.0</td>\n",
       "      <td>50.00</td>\n",
       "      <td>-40.00</td>\n",
       "      <td>30.0</td>\n",
       "      <td>2021-05-01</td>\n",
       "    </tr>\n",
       "    <tr>\n",
       "      <th>...</th>\n",
       "      <td>...</td>\n",
       "      <td>...</td>\n",
       "      <td>...</td>\n",
       "      <td>...</td>\n",
       "      <td>...</td>\n",
       "      <td>...</td>\n",
       "      <td>...</td>\n",
       "      <td>...</td>\n",
       "      <td>...</td>\n",
       "      <td>...</td>\n",
       "    </tr>\n",
       "    <tr>\n",
       "      <th>2081</th>\n",
       "      <td>Verkehrsunfälle</td>\n",
       "      <td>Verletzte und Getötete</td>\n",
       "      <td>2000</td>\n",
       "      <td>200008</td>\n",
       "      <td>647.0</td>\n",
       "      <td>NaN</td>\n",
       "      <td>-13.04</td>\n",
       "      <td>NaN</td>\n",
       "      <td>584.0</td>\n",
       "      <td>2000-08-01</td>\n",
       "    </tr>\n",
       "    <tr>\n",
       "      <th>2082</th>\n",
       "      <td>Verkehrsunfälle</td>\n",
       "      <td>Verletzte und Getötete</td>\n",
       "      <td>2000</td>\n",
       "      <td>200009</td>\n",
       "      <td>675.0</td>\n",
       "      <td>NaN</td>\n",
       "      <td>4.33</td>\n",
       "      <td>NaN</td>\n",
       "      <td>594.0</td>\n",
       "      <td>2000-09-01</td>\n",
       "    </tr>\n",
       "    <tr>\n",
       "      <th>2083</th>\n",
       "      <td>Verkehrsunfälle</td>\n",
       "      <td>Verletzte und Getötete</td>\n",
       "      <td>2000</td>\n",
       "      <td>200010</td>\n",
       "      <td>615.0</td>\n",
       "      <td>NaN</td>\n",
       "      <td>-8.89</td>\n",
       "      <td>NaN</td>\n",
       "      <td>596.0</td>\n",
       "      <td>2000-10-01</td>\n",
       "    </tr>\n",
       "    <tr>\n",
       "      <th>2084</th>\n",
       "      <td>Verkehrsunfälle</td>\n",
       "      <td>Verletzte und Getötete</td>\n",
       "      <td>2000</td>\n",
       "      <td>200011</td>\n",
       "      <td>578.0</td>\n",
       "      <td>NaN</td>\n",
       "      <td>-6.02</td>\n",
       "      <td>NaN</td>\n",
       "      <td>594.0</td>\n",
       "      <td>2000-11-01</td>\n",
       "    </tr>\n",
       "    <tr>\n",
       "      <th>2085</th>\n",
       "      <td>Verkehrsunfälle</td>\n",
       "      <td>Verletzte und Getötete</td>\n",
       "      <td>2000</td>\n",
       "      <td>200012</td>\n",
       "      <td>515.0</td>\n",
       "      <td>NaN</td>\n",
       "      <td>-10.90</td>\n",
       "      <td>NaN</td>\n",
       "      <td>588.0</td>\n",
       "      <td>2000-12-01</td>\n",
       "    </tr>\n",
       "  </tbody>\n",
       "</table>\n",
       "<p>1848 rows × 10 columns</p>\n",
       "</div>"
      ],
      "text/plain": [
       "           MONATSZAHL             AUSPRAEGUNG  JAHR   MONAT   WERT  \\\n",
       "13     Alkoholunfälle               insgesamt  2021  202101   16.0   \n",
       "14     Alkoholunfälle               insgesamt  2021  202102   14.0   \n",
       "15     Alkoholunfälle               insgesamt  2021  202103   24.0   \n",
       "16     Alkoholunfälle               insgesamt  2021  202104   16.0   \n",
       "17     Alkoholunfälle               insgesamt  2021  202105   24.0   \n",
       "...               ...                     ...   ...     ...    ...   \n",
       "2081  Verkehrsunfälle  Verletzte und Getötete  2000  200008  647.0   \n",
       "2082  Verkehrsunfälle  Verletzte und Getötete  2000  200009  675.0   \n",
       "2083  Verkehrsunfälle  Verletzte und Getötete  2000  200010  615.0   \n",
       "2084  Verkehrsunfälle  Verletzte und Getötete  2000  200011  578.0   \n",
       "2085  Verkehrsunfälle  Verletzte und Getötete  2000  200012  515.0   \n",
       "\n",
       "      VORJAHRESWERT  VERAEND_VORMONAT_PROZENT  VERAEND_VORJAHRESMONAT_PROZENT  \\\n",
       "13             28.0                     23.08                          -42.86   \n",
       "14             40.0                    -12.50                          -65.00   \n",
       "15             27.0                     71.43                          -11.11   \n",
       "16             26.0                    -33.33                          -38.46   \n",
       "17             40.0                     50.00                          -40.00   \n",
       "...             ...                       ...                             ...   \n",
       "2081            NaN                    -13.04                             NaN   \n",
       "2082            NaN                      4.33                             NaN   \n",
       "2083            NaN                     -8.89                             NaN   \n",
       "2084            NaN                     -6.02                             NaN   \n",
       "2085            NaN                    -10.90                             NaN   \n",
       "\n",
       "      ZWOELF_MONATE_MITTELWERT      MONTH  \n",
       "13                        35.0 2021-01-01  \n",
       "14                        33.0 2021-02-01  \n",
       "15                        32.0 2021-03-01  \n",
       "16                        32.0 2021-04-01  \n",
       "17                        30.0 2021-05-01  \n",
       "...                        ...        ...  \n",
       "2081                     584.0 2000-08-01  \n",
       "2082                     594.0 2000-09-01  \n",
       "2083                     596.0 2000-10-01  \n",
       "2084                     594.0 2000-11-01  \n",
       "2085                     588.0 2000-12-01  \n",
       "\n",
       "[1848 rows x 10 columns]"
      ]
     },
     "execution_count": 5,
     "metadata": {},
     "output_type": "execute_result"
    }
   ],
   "source": [
    "acc1['MONTH'] = pd.to_datetime(acc1['MONAT'], format='%Y%m')\n",
    "acc1"
   ]
  },
  {
   "cell_type": "markdown",
   "id": "bbae9254",
   "metadata": {},
   "source": [
    "## Prepare data for total Alkoholunfälle accidents"
   ]
  },
  {
   "cell_type": "code",
   "execution_count": 6,
   "id": "9a2f6539",
   "metadata": {},
   "outputs": [
    {
     "data": {
      "text/html": [
       "<div>\n",
       "<style scoped>\n",
       "    .dataframe tbody tr th:only-of-type {\n",
       "        vertical-align: middle;\n",
       "    }\n",
       "\n",
       "    .dataframe tbody tr th {\n",
       "        vertical-align: top;\n",
       "    }\n",
       "\n",
       "    .dataframe thead th {\n",
       "        text-align: right;\n",
       "    }\n",
       "</style>\n",
       "<table border=\"1\" class=\"dataframe\">\n",
       "  <thead>\n",
       "    <tr style=\"text-align: right;\">\n",
       "      <th></th>\n",
       "      <th>MONATSZAHL</th>\n",
       "      <th>AUSPRAEGUNG</th>\n",
       "      <th>JAHR</th>\n",
       "      <th>MONAT</th>\n",
       "      <th>WERT</th>\n",
       "      <th>VORJAHRESWERT</th>\n",
       "      <th>VERAEND_VORMONAT_PROZENT</th>\n",
       "      <th>VERAEND_VORJAHRESMONAT_PROZENT</th>\n",
       "      <th>ZWOELF_MONATE_MITTELWERT</th>\n",
       "      <th>MONTH</th>\n",
       "    </tr>\n",
       "  </thead>\n",
       "  <tbody>\n",
       "    <tr>\n",
       "      <th>13</th>\n",
       "      <td>Alkoholunfälle</td>\n",
       "      <td>insgesamt</td>\n",
       "      <td>2021</td>\n",
       "      <td>202101</td>\n",
       "      <td>16.0</td>\n",
       "      <td>28.0</td>\n",
       "      <td>23.08</td>\n",
       "      <td>-42.86</td>\n",
       "      <td>35.0</td>\n",
       "      <td>2021-01-01</td>\n",
       "    </tr>\n",
       "    <tr>\n",
       "      <th>14</th>\n",
       "      <td>Alkoholunfälle</td>\n",
       "      <td>insgesamt</td>\n",
       "      <td>2021</td>\n",
       "      <td>202102</td>\n",
       "      <td>14.0</td>\n",
       "      <td>40.0</td>\n",
       "      <td>-12.50</td>\n",
       "      <td>-65.00</td>\n",
       "      <td>33.0</td>\n",
       "      <td>2021-02-01</td>\n",
       "    </tr>\n",
       "    <tr>\n",
       "      <th>15</th>\n",
       "      <td>Alkoholunfälle</td>\n",
       "      <td>insgesamt</td>\n",
       "      <td>2021</td>\n",
       "      <td>202103</td>\n",
       "      <td>24.0</td>\n",
       "      <td>27.0</td>\n",
       "      <td>71.43</td>\n",
       "      <td>-11.11</td>\n",
       "      <td>32.0</td>\n",
       "      <td>2021-03-01</td>\n",
       "    </tr>\n",
       "    <tr>\n",
       "      <th>16</th>\n",
       "      <td>Alkoholunfälle</td>\n",
       "      <td>insgesamt</td>\n",
       "      <td>2021</td>\n",
       "      <td>202104</td>\n",
       "      <td>16.0</td>\n",
       "      <td>26.0</td>\n",
       "      <td>-33.33</td>\n",
       "      <td>-38.46</td>\n",
       "      <td>32.0</td>\n",
       "      <td>2021-04-01</td>\n",
       "    </tr>\n",
       "    <tr>\n",
       "      <th>17</th>\n",
       "      <td>Alkoholunfälle</td>\n",
       "      <td>insgesamt</td>\n",
       "      <td>2021</td>\n",
       "      <td>202105</td>\n",
       "      <td>24.0</td>\n",
       "      <td>40.0</td>\n",
       "      <td>50.00</td>\n",
       "      <td>-40.00</td>\n",
       "      <td>30.0</td>\n",
       "      <td>2021-05-01</td>\n",
       "    </tr>\n",
       "    <tr>\n",
       "      <th>...</th>\n",
       "      <td>...</td>\n",
       "      <td>...</td>\n",
       "      <td>...</td>\n",
       "      <td>...</td>\n",
       "      <td>...</td>\n",
       "      <td>...</td>\n",
       "      <td>...</td>\n",
       "      <td>...</td>\n",
       "      <td>...</td>\n",
       "      <td>...</td>\n",
       "    </tr>\n",
       "    <tr>\n",
       "      <th>293</th>\n",
       "      <td>Alkoholunfälle</td>\n",
       "      <td>insgesamt</td>\n",
       "      <td>2000</td>\n",
       "      <td>200008</td>\n",
       "      <td>77.0</td>\n",
       "      <td>NaN</td>\n",
       "      <td>-22.22</td>\n",
       "      <td>NaN</td>\n",
       "      <td>76.0</td>\n",
       "      <td>2000-08-01</td>\n",
       "    </tr>\n",
       "    <tr>\n",
       "      <th>294</th>\n",
       "      <td>Alkoholunfälle</td>\n",
       "      <td>insgesamt</td>\n",
       "      <td>2000</td>\n",
       "      <td>200009</td>\n",
       "      <td>84.0</td>\n",
       "      <td>NaN</td>\n",
       "      <td>9.09</td>\n",
       "      <td>NaN</td>\n",
       "      <td>77.0</td>\n",
       "      <td>2000-09-01</td>\n",
       "    </tr>\n",
       "    <tr>\n",
       "      <th>295</th>\n",
       "      <td>Alkoholunfälle</td>\n",
       "      <td>insgesamt</td>\n",
       "      <td>2000</td>\n",
       "      <td>200010</td>\n",
       "      <td>83.0</td>\n",
       "      <td>NaN</td>\n",
       "      <td>-1.19</td>\n",
       "      <td>NaN</td>\n",
       "      <td>78.0</td>\n",
       "      <td>2000-10-01</td>\n",
       "    </tr>\n",
       "    <tr>\n",
       "      <th>296</th>\n",
       "      <td>Alkoholunfälle</td>\n",
       "      <td>insgesamt</td>\n",
       "      <td>2000</td>\n",
       "      <td>200011</td>\n",
       "      <td>71.0</td>\n",
       "      <td>NaN</td>\n",
       "      <td>-14.46</td>\n",
       "      <td>NaN</td>\n",
       "      <td>77.0</td>\n",
       "      <td>2000-11-01</td>\n",
       "    </tr>\n",
       "    <tr>\n",
       "      <th>297</th>\n",
       "      <td>Alkoholunfälle</td>\n",
       "      <td>insgesamt</td>\n",
       "      <td>2000</td>\n",
       "      <td>200012</td>\n",
       "      <td>85.0</td>\n",
       "      <td>NaN</td>\n",
       "      <td>19.72</td>\n",
       "      <td>NaN</td>\n",
       "      <td>78.0</td>\n",
       "      <td>2000-12-01</td>\n",
       "    </tr>\n",
       "  </tbody>\n",
       "</table>\n",
       "<p>264 rows × 10 columns</p>\n",
       "</div>"
      ],
      "text/plain": [
       "         MONATSZAHL AUSPRAEGUNG  JAHR   MONAT  WERT  VORJAHRESWERT  \\\n",
       "13   Alkoholunfälle   insgesamt  2021  202101  16.0           28.0   \n",
       "14   Alkoholunfälle   insgesamt  2021  202102  14.0           40.0   \n",
       "15   Alkoholunfälle   insgesamt  2021  202103  24.0           27.0   \n",
       "16   Alkoholunfälle   insgesamt  2021  202104  16.0           26.0   \n",
       "17   Alkoholunfälle   insgesamt  2021  202105  24.0           40.0   \n",
       "..              ...         ...   ...     ...   ...            ...   \n",
       "293  Alkoholunfälle   insgesamt  2000  200008  77.0            NaN   \n",
       "294  Alkoholunfälle   insgesamt  2000  200009  84.0            NaN   \n",
       "295  Alkoholunfälle   insgesamt  2000  200010  83.0            NaN   \n",
       "296  Alkoholunfälle   insgesamt  2000  200011  71.0            NaN   \n",
       "297  Alkoholunfälle   insgesamt  2000  200012  85.0            NaN   \n",
       "\n",
       "     VERAEND_VORMONAT_PROZENT  VERAEND_VORJAHRESMONAT_PROZENT  \\\n",
       "13                      23.08                          -42.86   \n",
       "14                     -12.50                          -65.00   \n",
       "15                      71.43                          -11.11   \n",
       "16                     -33.33                          -38.46   \n",
       "17                      50.00                          -40.00   \n",
       "..                        ...                             ...   \n",
       "293                    -22.22                             NaN   \n",
       "294                      9.09                             NaN   \n",
       "295                     -1.19                             NaN   \n",
       "296                    -14.46                             NaN   \n",
       "297                     19.72                             NaN   \n",
       "\n",
       "     ZWOELF_MONATE_MITTELWERT      MONTH  \n",
       "13                       35.0 2021-01-01  \n",
       "14                       33.0 2021-02-01  \n",
       "15                       32.0 2021-03-01  \n",
       "16                       32.0 2021-04-01  \n",
       "17                       30.0 2021-05-01  \n",
       "..                        ...        ...  \n",
       "293                      76.0 2000-08-01  \n",
       "294                      77.0 2000-09-01  \n",
       "295                      78.0 2000-10-01  \n",
       "296                      77.0 2000-11-01  \n",
       "297                      78.0 2000-12-01  \n",
       "\n",
       "[264 rows x 10 columns]"
      ]
     },
     "execution_count": 6,
     "metadata": {},
     "output_type": "execute_result"
    }
   ],
   "source": [
    "df = acc1[(acc1.MONATSZAHL == 'Alkoholunfälle') & (acc1.AUSPRAEGUNG == 'insgesamt')]\n",
    "df"
   ]
  },
  {
   "cell_type": "code",
   "execution_count": 7,
   "id": "d87700cf",
   "metadata": {},
   "outputs": [
    {
     "name": "stderr",
     "output_type": "stream",
     "text": [
      "/Users/cuonghn/opt/miniconda3/envs/visualize/lib/python3.9/site-packages/pandas/util/_decorators.py:311: SettingWithCopyWarning: \n",
      "A value is trying to be set on a copy of a slice from a DataFrame\n",
      "\n",
      "See the caveats in the documentation: https://pandas.pydata.org/pandas-docs/stable/user_guide/indexing.html#returning-a-view-versus-a-copy\n",
      "  return func(*args, **kwargs)\n"
     ]
    },
    {
     "data": {
      "text/html": [
       "<div>\n",
       "<style scoped>\n",
       "    .dataframe tbody tr th:only-of-type {\n",
       "        vertical-align: middle;\n",
       "    }\n",
       "\n",
       "    .dataframe tbody tr th {\n",
       "        vertical-align: top;\n",
       "    }\n",
       "\n",
       "    .dataframe thead th {\n",
       "        text-align: right;\n",
       "    }\n",
       "</style>\n",
       "<table border=\"1\" class=\"dataframe\">\n",
       "  <thead>\n",
       "    <tr style=\"text-align: right;\">\n",
       "      <th></th>\n",
       "      <th>MONATSZAHL</th>\n",
       "      <th>AUSPRAEGUNG</th>\n",
       "      <th>JAHR</th>\n",
       "      <th>MONAT</th>\n",
       "      <th>WERT</th>\n",
       "      <th>VORJAHRESWERT</th>\n",
       "      <th>VERAEND_VORMONAT_PROZENT</th>\n",
       "      <th>VERAEND_VORJAHRESMONAT_PROZENT</th>\n",
       "      <th>ZWOELF_MONATE_MITTELWERT</th>\n",
       "      <th>MONTH</th>\n",
       "    </tr>\n",
       "  </thead>\n",
       "  <tbody>\n",
       "    <tr>\n",
       "      <th>286</th>\n",
       "      <td>Alkoholunfälle</td>\n",
       "      <td>insgesamt</td>\n",
       "      <td>2000</td>\n",
       "      <td>200001</td>\n",
       "      <td>78.0</td>\n",
       "      <td>NaN</td>\n",
       "      <td>NaN</td>\n",
       "      <td>NaN</td>\n",
       "      <td>78.0</td>\n",
       "      <td>2000-01-01</td>\n",
       "    </tr>\n",
       "    <tr>\n",
       "      <th>287</th>\n",
       "      <td>Alkoholunfälle</td>\n",
       "      <td>insgesamt</td>\n",
       "      <td>2000</td>\n",
       "      <td>200002</td>\n",
       "      <td>53.0</td>\n",
       "      <td>NaN</td>\n",
       "      <td>-32.05</td>\n",
       "      <td>NaN</td>\n",
       "      <td>66.0</td>\n",
       "      <td>2000-02-01</td>\n",
       "    </tr>\n",
       "    <tr>\n",
       "      <th>288</th>\n",
       "      <td>Alkoholunfälle</td>\n",
       "      <td>insgesamt</td>\n",
       "      <td>2000</td>\n",
       "      <td>200003</td>\n",
       "      <td>73.0</td>\n",
       "      <td>NaN</td>\n",
       "      <td>37.74</td>\n",
       "      <td>NaN</td>\n",
       "      <td>68.0</td>\n",
       "      <td>2000-03-01</td>\n",
       "    </tr>\n",
       "    <tr>\n",
       "      <th>289</th>\n",
       "      <td>Alkoholunfälle</td>\n",
       "      <td>insgesamt</td>\n",
       "      <td>2000</td>\n",
       "      <td>200004</td>\n",
       "      <td>78.0</td>\n",
       "      <td>NaN</td>\n",
       "      <td>6.85</td>\n",
       "      <td>NaN</td>\n",
       "      <td>71.0</td>\n",
       "      <td>2000-04-01</td>\n",
       "    </tr>\n",
       "    <tr>\n",
       "      <th>290</th>\n",
       "      <td>Alkoholunfälle</td>\n",
       "      <td>insgesamt</td>\n",
       "      <td>2000</td>\n",
       "      <td>200005</td>\n",
       "      <td>96.0</td>\n",
       "      <td>NaN</td>\n",
       "      <td>23.08</td>\n",
       "      <td>NaN</td>\n",
       "      <td>76.0</td>\n",
       "      <td>2000-05-01</td>\n",
       "    </tr>\n",
       "    <tr>\n",
       "      <th>...</th>\n",
       "      <td>...</td>\n",
       "      <td>...</td>\n",
       "      <td>...</td>\n",
       "      <td>...</td>\n",
       "      <td>...</td>\n",
       "      <td>...</td>\n",
       "      <td>...</td>\n",
       "      <td>...</td>\n",
       "      <td>...</td>\n",
       "      <td>...</td>\n",
       "    </tr>\n",
       "    <tr>\n",
       "      <th>20</th>\n",
       "      <td>Alkoholunfälle</td>\n",
       "      <td>insgesamt</td>\n",
       "      <td>2021</td>\n",
       "      <td>202108</td>\n",
       "      <td>46.0</td>\n",
       "      <td>46.0</td>\n",
       "      <td>4.55</td>\n",
       "      <td>0.00</td>\n",
       "      <td>29.0</td>\n",
       "      <td>2021-08-01</td>\n",
       "    </tr>\n",
       "    <tr>\n",
       "      <th>21</th>\n",
       "      <td>Alkoholunfälle</td>\n",
       "      <td>insgesamt</td>\n",
       "      <td>2021</td>\n",
       "      <td>202109</td>\n",
       "      <td>54.0</td>\n",
       "      <td>46.0</td>\n",
       "      <td>17.39</td>\n",
       "      <td>17.39</td>\n",
       "      <td>30.0</td>\n",
       "      <td>2021-09-01</td>\n",
       "    </tr>\n",
       "    <tr>\n",
       "      <th>22</th>\n",
       "      <td>Alkoholunfälle</td>\n",
       "      <td>insgesamt</td>\n",
       "      <td>2021</td>\n",
       "      <td>202110</td>\n",
       "      <td>43.0</td>\n",
       "      <td>34.0</td>\n",
       "      <td>-20.37</td>\n",
       "      <td>26.47</td>\n",
       "      <td>30.0</td>\n",
       "      <td>2021-10-01</td>\n",
       "    </tr>\n",
       "    <tr>\n",
       "      <th>23</th>\n",
       "      <td>Alkoholunfälle</td>\n",
       "      <td>insgesamt</td>\n",
       "      <td>2021</td>\n",
       "      <td>202111</td>\n",
       "      <td>33.0</td>\n",
       "      <td>23.0</td>\n",
       "      <td>-23.26</td>\n",
       "      <td>43.48</td>\n",
       "      <td>31.0</td>\n",
       "      <td>2021-11-01</td>\n",
       "    </tr>\n",
       "    <tr>\n",
       "      <th>24</th>\n",
       "      <td>Alkoholunfälle</td>\n",
       "      <td>insgesamt</td>\n",
       "      <td>2021</td>\n",
       "      <td>202112</td>\n",
       "      <td>21.0</td>\n",
       "      <td>13.0</td>\n",
       "      <td>-36.36</td>\n",
       "      <td>61.54</td>\n",
       "      <td>32.0</td>\n",
       "      <td>2021-12-01</td>\n",
       "    </tr>\n",
       "  </tbody>\n",
       "</table>\n",
       "<p>264 rows × 10 columns</p>\n",
       "</div>"
      ],
      "text/plain": [
       "         MONATSZAHL AUSPRAEGUNG  JAHR   MONAT  WERT  VORJAHRESWERT  \\\n",
       "286  Alkoholunfälle   insgesamt  2000  200001  78.0            NaN   \n",
       "287  Alkoholunfälle   insgesamt  2000  200002  53.0            NaN   \n",
       "288  Alkoholunfälle   insgesamt  2000  200003  73.0            NaN   \n",
       "289  Alkoholunfälle   insgesamt  2000  200004  78.0            NaN   \n",
       "290  Alkoholunfälle   insgesamt  2000  200005  96.0            NaN   \n",
       "..              ...         ...   ...     ...   ...            ...   \n",
       "20   Alkoholunfälle   insgesamt  2021  202108  46.0           46.0   \n",
       "21   Alkoholunfälle   insgesamt  2021  202109  54.0           46.0   \n",
       "22   Alkoholunfälle   insgesamt  2021  202110  43.0           34.0   \n",
       "23   Alkoholunfälle   insgesamt  2021  202111  33.0           23.0   \n",
       "24   Alkoholunfälle   insgesamt  2021  202112  21.0           13.0   \n",
       "\n",
       "     VERAEND_VORMONAT_PROZENT  VERAEND_VORJAHRESMONAT_PROZENT  \\\n",
       "286                       NaN                             NaN   \n",
       "287                    -32.05                             NaN   \n",
       "288                     37.74                             NaN   \n",
       "289                      6.85                             NaN   \n",
       "290                     23.08                             NaN   \n",
       "..                        ...                             ...   \n",
       "20                       4.55                            0.00   \n",
       "21                      17.39                           17.39   \n",
       "22                     -20.37                           26.47   \n",
       "23                     -23.26                           43.48   \n",
       "24                     -36.36                           61.54   \n",
       "\n",
       "     ZWOELF_MONATE_MITTELWERT      MONTH  \n",
       "286                      78.0 2000-01-01  \n",
       "287                      66.0 2000-02-01  \n",
       "288                      68.0 2000-03-01  \n",
       "289                      71.0 2000-04-01  \n",
       "290                      76.0 2000-05-01  \n",
       "..                        ...        ...  \n",
       "20                       29.0 2021-08-01  \n",
       "21                       30.0 2021-09-01  \n",
       "22                       30.0 2021-10-01  \n",
       "23                       31.0 2021-11-01  \n",
       "24                       32.0 2021-12-01  \n",
       "\n",
       "[264 rows x 10 columns]"
      ]
     },
     "execution_count": 7,
     "metadata": {},
     "output_type": "execute_result"
    }
   ],
   "source": [
    "df.sort_values('MONTH', inplace=True)\n",
    "df"
   ]
  },
  {
   "cell_type": "code",
   "execution_count": 8,
   "id": "a6caa1aa",
   "metadata": {},
   "outputs": [
    {
     "data": {
      "text/html": [
       "<div>\n",
       "<style scoped>\n",
       "    .dataframe tbody tr th:only-of-type {\n",
       "        vertical-align: middle;\n",
       "    }\n",
       "\n",
       "    .dataframe tbody tr th {\n",
       "        vertical-align: top;\n",
       "    }\n",
       "\n",
       "    .dataframe thead th {\n",
       "        text-align: right;\n",
       "    }\n",
       "</style>\n",
       "<table border=\"1\" class=\"dataframe\">\n",
       "  <thead>\n",
       "    <tr style=\"text-align: right;\">\n",
       "      <th></th>\n",
       "      <th>MONATSZAHL</th>\n",
       "      <th>AUSPRAEGUNG</th>\n",
       "      <th>JAHR</th>\n",
       "      <th>MONAT</th>\n",
       "      <th>WERT</th>\n",
       "      <th>VORJAHRESWERT</th>\n",
       "      <th>VERAEND_VORMONAT_PROZENT</th>\n",
       "      <th>VERAEND_VORJAHRESMONAT_PROZENT</th>\n",
       "      <th>ZWOELF_MONATE_MITTELWERT</th>\n",
       "      <th>MONTH</th>\n",
       "    </tr>\n",
       "  </thead>\n",
       "  <tbody>\n",
       "    <tr>\n",
       "      <th>0</th>\n",
       "      <td>Alkoholunfälle</td>\n",
       "      <td>insgesamt</td>\n",
       "      <td>2000</td>\n",
       "      <td>200001</td>\n",
       "      <td>78.0</td>\n",
       "      <td>NaN</td>\n",
       "      <td>NaN</td>\n",
       "      <td>NaN</td>\n",
       "      <td>78.0</td>\n",
       "      <td>2000-01-01</td>\n",
       "    </tr>\n",
       "    <tr>\n",
       "      <th>1</th>\n",
       "      <td>Alkoholunfälle</td>\n",
       "      <td>insgesamt</td>\n",
       "      <td>2000</td>\n",
       "      <td>200002</td>\n",
       "      <td>53.0</td>\n",
       "      <td>NaN</td>\n",
       "      <td>-32.05</td>\n",
       "      <td>NaN</td>\n",
       "      <td>66.0</td>\n",
       "      <td>2000-02-01</td>\n",
       "    </tr>\n",
       "    <tr>\n",
       "      <th>2</th>\n",
       "      <td>Alkoholunfälle</td>\n",
       "      <td>insgesamt</td>\n",
       "      <td>2000</td>\n",
       "      <td>200003</td>\n",
       "      <td>73.0</td>\n",
       "      <td>NaN</td>\n",
       "      <td>37.74</td>\n",
       "      <td>NaN</td>\n",
       "      <td>68.0</td>\n",
       "      <td>2000-03-01</td>\n",
       "    </tr>\n",
       "    <tr>\n",
       "      <th>3</th>\n",
       "      <td>Alkoholunfälle</td>\n",
       "      <td>insgesamt</td>\n",
       "      <td>2000</td>\n",
       "      <td>200004</td>\n",
       "      <td>78.0</td>\n",
       "      <td>NaN</td>\n",
       "      <td>6.85</td>\n",
       "      <td>NaN</td>\n",
       "      <td>71.0</td>\n",
       "      <td>2000-04-01</td>\n",
       "    </tr>\n",
       "    <tr>\n",
       "      <th>4</th>\n",
       "      <td>Alkoholunfälle</td>\n",
       "      <td>insgesamt</td>\n",
       "      <td>2000</td>\n",
       "      <td>200005</td>\n",
       "      <td>96.0</td>\n",
       "      <td>NaN</td>\n",
       "      <td>23.08</td>\n",
       "      <td>NaN</td>\n",
       "      <td>76.0</td>\n",
       "      <td>2000-05-01</td>\n",
       "    </tr>\n",
       "    <tr>\n",
       "      <th>...</th>\n",
       "      <td>...</td>\n",
       "      <td>...</td>\n",
       "      <td>...</td>\n",
       "      <td>...</td>\n",
       "      <td>...</td>\n",
       "      <td>...</td>\n",
       "      <td>...</td>\n",
       "      <td>...</td>\n",
       "      <td>...</td>\n",
       "      <td>...</td>\n",
       "    </tr>\n",
       "    <tr>\n",
       "      <th>259</th>\n",
       "      <td>Alkoholunfälle</td>\n",
       "      <td>insgesamt</td>\n",
       "      <td>2021</td>\n",
       "      <td>202108</td>\n",
       "      <td>46.0</td>\n",
       "      <td>46.0</td>\n",
       "      <td>4.55</td>\n",
       "      <td>0.00</td>\n",
       "      <td>29.0</td>\n",
       "      <td>2021-08-01</td>\n",
       "    </tr>\n",
       "    <tr>\n",
       "      <th>260</th>\n",
       "      <td>Alkoholunfälle</td>\n",
       "      <td>insgesamt</td>\n",
       "      <td>2021</td>\n",
       "      <td>202109</td>\n",
       "      <td>54.0</td>\n",
       "      <td>46.0</td>\n",
       "      <td>17.39</td>\n",
       "      <td>17.39</td>\n",
       "      <td>30.0</td>\n",
       "      <td>2021-09-01</td>\n",
       "    </tr>\n",
       "    <tr>\n",
       "      <th>261</th>\n",
       "      <td>Alkoholunfälle</td>\n",
       "      <td>insgesamt</td>\n",
       "      <td>2021</td>\n",
       "      <td>202110</td>\n",
       "      <td>43.0</td>\n",
       "      <td>34.0</td>\n",
       "      <td>-20.37</td>\n",
       "      <td>26.47</td>\n",
       "      <td>30.0</td>\n",
       "      <td>2021-10-01</td>\n",
       "    </tr>\n",
       "    <tr>\n",
       "      <th>262</th>\n",
       "      <td>Alkoholunfälle</td>\n",
       "      <td>insgesamt</td>\n",
       "      <td>2021</td>\n",
       "      <td>202111</td>\n",
       "      <td>33.0</td>\n",
       "      <td>23.0</td>\n",
       "      <td>-23.26</td>\n",
       "      <td>43.48</td>\n",
       "      <td>31.0</td>\n",
       "      <td>2021-11-01</td>\n",
       "    </tr>\n",
       "    <tr>\n",
       "      <th>263</th>\n",
       "      <td>Alkoholunfälle</td>\n",
       "      <td>insgesamt</td>\n",
       "      <td>2021</td>\n",
       "      <td>202112</td>\n",
       "      <td>21.0</td>\n",
       "      <td>13.0</td>\n",
       "      <td>-36.36</td>\n",
       "      <td>61.54</td>\n",
       "      <td>32.0</td>\n",
       "      <td>2021-12-01</td>\n",
       "    </tr>\n",
       "  </tbody>\n",
       "</table>\n",
       "<p>264 rows × 10 columns</p>\n",
       "</div>"
      ],
      "text/plain": [
       "         MONATSZAHL AUSPRAEGUNG  JAHR   MONAT  WERT  VORJAHRESWERT  \\\n",
       "0    Alkoholunfälle   insgesamt  2000  200001  78.0            NaN   \n",
       "1    Alkoholunfälle   insgesamt  2000  200002  53.0            NaN   \n",
       "2    Alkoholunfälle   insgesamt  2000  200003  73.0            NaN   \n",
       "3    Alkoholunfälle   insgesamt  2000  200004  78.0            NaN   \n",
       "4    Alkoholunfälle   insgesamt  2000  200005  96.0            NaN   \n",
       "..              ...         ...   ...     ...   ...            ...   \n",
       "259  Alkoholunfälle   insgesamt  2021  202108  46.0           46.0   \n",
       "260  Alkoholunfälle   insgesamt  2021  202109  54.0           46.0   \n",
       "261  Alkoholunfälle   insgesamt  2021  202110  43.0           34.0   \n",
       "262  Alkoholunfälle   insgesamt  2021  202111  33.0           23.0   \n",
       "263  Alkoholunfälle   insgesamt  2021  202112  21.0           13.0   \n",
       "\n",
       "     VERAEND_VORMONAT_PROZENT  VERAEND_VORJAHRESMONAT_PROZENT  \\\n",
       "0                         NaN                             NaN   \n",
       "1                      -32.05                             NaN   \n",
       "2                       37.74                             NaN   \n",
       "3                        6.85                             NaN   \n",
       "4                       23.08                             NaN   \n",
       "..                        ...                             ...   \n",
       "259                      4.55                            0.00   \n",
       "260                     17.39                           17.39   \n",
       "261                    -20.37                           26.47   \n",
       "262                    -23.26                           43.48   \n",
       "263                    -36.36                           61.54   \n",
       "\n",
       "     ZWOELF_MONATE_MITTELWERT      MONTH  \n",
       "0                        78.0 2000-01-01  \n",
       "1                        66.0 2000-02-01  \n",
       "2                        68.0 2000-03-01  \n",
       "3                        71.0 2000-04-01  \n",
       "4                        76.0 2000-05-01  \n",
       "..                        ...        ...  \n",
       "259                      29.0 2021-08-01  \n",
       "260                      30.0 2021-09-01  \n",
       "261                      30.0 2021-10-01  \n",
       "262                      31.0 2021-11-01  \n",
       "263                      32.0 2021-12-01  \n",
       "\n",
       "[264 rows x 10 columns]"
      ]
     },
     "execution_count": 8,
     "metadata": {},
     "output_type": "execute_result"
    }
   ],
   "source": [
    "df.reset_index(drop=True, inplace=True)\n",
    "df"
   ]
  },
  {
   "cell_type": "markdown",
   "id": "ff102186",
   "metadata": {},
   "source": [
    "# Modelling\n",
    "- With the time series data, I decided to try Auto Regression, Auto Regression Moving Average, and Fb's time series library Prophet"
   ]
  },
  {
   "cell_type": "markdown",
   "id": "f93a14a1",
   "metadata": {},
   "source": [
    "## Test stationary\n",
    "- Test for stationary over time-series data"
   ]
  },
  {
   "cell_type": "code",
   "execution_count": 25,
   "id": "2a789b56",
   "metadata": {
    "scrolled": true
   },
   "outputs": [
    {
     "name": "stdout",
     "output_type": "stream",
     "text": [
      "P-value:  0.07835181181047786\n"
     ]
    }
   ],
   "source": [
    "#\n",
    "# Check for stationarity of the time-series data\n",
    "# We will look for p-value. In case, p-value is less than 0.05, the time series\n",
    "# data can said to have stationarity\n",
    "#\n",
    "from statsmodels.tsa.stattools import adfuller\n",
    "#\n",
    "# Run the test\n",
    "#\n",
    "df_stationarityTest = adfuller(df['WERT'], autolag='AIC')\n",
    "#\n",
    "# Check the value of p-value\n",
    "#\n",
    "print(\"P-value: \", df_stationarityTest[1])"
   ]
  },
  {
   "cell_type": "code",
   "execution_count": 26,
   "id": "014ae03a",
   "metadata": {},
   "outputs": [
    {
     "name": "stderr",
     "output_type": "stream",
     "text": [
      "/Users/cuonghn/opt/miniconda3/envs/visualize/lib/python3.9/site-packages/statsmodels/graphics/tsaplots.py:348: FutureWarning: The default method 'yw' can produce PACF values outside of the [-1,1] interval. After 0.13, the default will change tounadjusted Yule-Walker ('ywm'). You can use this method now by setting method='ywm'.\n",
      "  warnings.warn(\n"
     ]
    },
    {
     "data": {
      "image/png": "[encoded data removed]",
      "text/plain": [
       "<Figure size 432x288 with 1 Axes>"
      ]
     },
     "metadata": {
      "needs_background": "light"
     },
     "output_type": "display_data"
    }
   ],
   "source": [
    "# Try find the order of AR model to be trained\n",
    "# for this, we will plot partial autocorrelation plot to assess\n",
    "# the direct effect of past data on future data\n",
    "#\n",
    "from statsmodels.graphics.tsaplots import plot_pacf\n",
    "pacf = plot_pacf(df['WERT'], lags=12)"
   ]
  },
  {
   "cell_type": "code",
   "execution_count": 27,
   "id": "4be5d550",
   "metadata": {},
   "outputs": [
    {
     "name": "stderr",
     "output_type": "stream",
     "text": [
      "/Users/cuonghn/opt/miniconda3/envs/visualize/lib/python3.9/site-packages/statsmodels/graphics/tsaplots.py:348: FutureWarning: The default method 'yw' can produce PACF values outside of the [-1,1] interval. After 0.13, the default will change tounadjusted Yule-Walker ('ywm'). You can use this method now by setting method='ywm'.\n",
      "  warnings.warn(\n"
     ]
    },
    {
     "data": {
      "image/png": "[encoded data removed]",
      "text/plain": [
       "<Figure size 432x288 with 1 Axes>"
      ]
     },
     "metadata": {
      "needs_background": "light"
     },
     "output_type": "display_data"
    }
   ],
   "source": [
    "pacf = plot_pacf(df['WERT'], lags=25)"
   ]
  },
  {
   "cell_type": "markdown",
   "id": "ed1361c1",
   "metadata": {},
   "source": [
    "## Auto regression model"
   ]
  },
  {
   "cell_type": "markdown",
   "id": "245ecbfc",
   "metadata": {},
   "source": [
    "### Training"
   ]
  },
  {
   "cell_type": "code",
   "execution_count": 159,
   "id": "e7c055b7",
   "metadata": {},
   "outputs": [
    {
     "data": {
      "text/html": [
       "<div>\n",
       "<style scoped>\n",
       "    .dataframe tbody tr th:only-of-type {\n",
       "        vertical-align: middle;\n",
       "    }\n",
       "\n",
       "    .dataframe tbody tr th {\n",
       "        vertical-align: top;\n",
       "    }\n",
       "\n",
       "    .dataframe thead th {\n",
       "        text-align: right;\n",
       "    }\n",
       "</style>\n",
       "<table border=\"1\" class=\"dataframe\">\n",
       "  <thead>\n",
       "    <tr style=\"text-align: right;\">\n",
       "      <th></th>\n",
       "      <th>MONATSZAHL</th>\n",
       "      <th>AUSPRAEGUNG</th>\n",
       "      <th>JAHR</th>\n",
       "      <th>MONAT</th>\n",
       "      <th>WERT</th>\n",
       "      <th>VORJAHRESWERT</th>\n",
       "      <th>VERAEND_VORMONAT_PROZENT</th>\n",
       "      <th>VERAEND_VORJAHRESMONAT_PROZENT</th>\n",
       "      <th>ZWOELF_MONATE_MITTELWERT</th>\n",
       "      <th>MONTH</th>\n",
       "    </tr>\n",
       "  </thead>\n",
       "  <tbody>\n",
       "    <tr>\n",
       "      <th>259</th>\n",
       "      <td>Alkoholunfälle</td>\n",
       "      <td>insgesamt</td>\n",
       "      <td>2021</td>\n",
       "      <td>202108</td>\n",
       "      <td>46.0</td>\n",
       "      <td>46.0</td>\n",
       "      <td>4.55</td>\n",
       "      <td>0.00</td>\n",
       "      <td>29.0</td>\n",
       "      <td>2021-08-01</td>\n",
       "    </tr>\n",
       "    <tr>\n",
       "      <th>260</th>\n",
       "      <td>Alkoholunfälle</td>\n",
       "      <td>insgesamt</td>\n",
       "      <td>2021</td>\n",
       "      <td>202109</td>\n",
       "      <td>54.0</td>\n",
       "      <td>46.0</td>\n",
       "      <td>17.39</td>\n",
       "      <td>17.39</td>\n",
       "      <td>30.0</td>\n",
       "      <td>2021-09-01</td>\n",
       "    </tr>\n",
       "    <tr>\n",
       "      <th>261</th>\n",
       "      <td>Alkoholunfälle</td>\n",
       "      <td>insgesamt</td>\n",
       "      <td>2021</td>\n",
       "      <td>202110</td>\n",
       "      <td>43.0</td>\n",
       "      <td>34.0</td>\n",
       "      <td>-20.37</td>\n",
       "      <td>26.47</td>\n",
       "      <td>30.0</td>\n",
       "      <td>2021-10-01</td>\n",
       "    </tr>\n",
       "    <tr>\n",
       "      <th>262</th>\n",
       "      <td>Alkoholunfälle</td>\n",
       "      <td>insgesamt</td>\n",
       "      <td>2021</td>\n",
       "      <td>202111</td>\n",
       "      <td>33.0</td>\n",
       "      <td>23.0</td>\n",
       "      <td>-23.26</td>\n",
       "      <td>43.48</td>\n",
       "      <td>31.0</td>\n",
       "      <td>2021-11-01</td>\n",
       "    </tr>\n",
       "    <tr>\n",
       "      <th>263</th>\n",
       "      <td>Alkoholunfälle</td>\n",
       "      <td>insgesamt</td>\n",
       "      <td>2021</td>\n",
       "      <td>202112</td>\n",
       "      <td>21.0</td>\n",
       "      <td>13.0</td>\n",
       "      <td>-36.36</td>\n",
       "      <td>61.54</td>\n",
       "      <td>32.0</td>\n",
       "      <td>2021-12-01</td>\n",
       "    </tr>\n",
       "  </tbody>\n",
       "</table>\n",
       "</div>"
      ],
      "text/plain": [
       "         MONATSZAHL AUSPRAEGUNG  JAHR   MONAT  WERT  VORJAHRESWERT  \\\n",
       "259  Alkoholunfälle   insgesamt  2021  202108  46.0           46.0   \n",
       "260  Alkoholunfälle   insgesamt  2021  202109  54.0           46.0   \n",
       "261  Alkoholunfälle   insgesamt  2021  202110  43.0           34.0   \n",
       "262  Alkoholunfälle   insgesamt  2021  202111  33.0           23.0   \n",
       "263  Alkoholunfälle   insgesamt  2021  202112  21.0           13.0   \n",
       "\n",
       "     VERAEND_VORMONAT_PROZENT  VERAEND_VORJAHRESMONAT_PROZENT  \\\n",
       "259                      4.55                            0.00   \n",
       "260                     17.39                           17.39   \n",
       "261                    -20.37                           26.47   \n",
       "262                    -23.26                           43.48   \n",
       "263                    -36.36                           61.54   \n",
       "\n",
       "     ZWOELF_MONATE_MITTELWERT      MONTH  \n",
       "259                      29.0 2021-08-01  \n",
       "260                      30.0 2021-09-01  \n",
       "261                      30.0 2021-10-01  \n",
       "262                      31.0 2021-11-01  \n",
       "263                      32.0 2021-12-01  "
      ]
     },
     "execution_count": 159,
     "metadata": {},
     "output_type": "execute_result"
    }
   ],
   "source": [
    "df.tail()"
   ]
  },
  {
   "cell_type": "code",
   "execution_count": 207,
   "id": "37f2949c",
   "metadata": {},
   "outputs": [],
   "source": [
    "#\n",
    "# Create training and test data\n",
    "#\n",
    "train_data = df['WERT'][:len(df)-12:]\n",
    "test_data = df['WERT'][len(df)-12:]"
   ]
  },
  {
   "cell_type": "code",
   "execution_count": 217,
   "id": "442e44b1",
   "metadata": {},
   "outputs": [
    {
     "name": "stdout",
     "output_type": "stream",
     "text": [
      "                            AutoReg Model Results                             \n",
      "==============================================================================\n",
      "Dep. Variable:                   WERT   No. Observations:                  252\n",
      "Model:                    AutoReg(12)   Log Likelihood                -852.752\n",
      "Method:               Conditional MLE   S.D. of innovations              8.450\n",
      "Date:                Wed, 13 Jul 2022   AIC                           1733.505\n",
      "Time:                        09:02:08   BIC                           1782.234\n",
      "Sample:                            12   HQIC                          1753.139\n",
      "                                  252                                         \n",
      "==============================================================================\n",
      "                 coef    std err          z      P>|z|      [0.025      0.975]\n",
      "------------------------------------------------------------------------------\n",
      "const          4.3258      1.835      2.357      0.018       0.729       7.922\n",
      "WERT.L1        0.2028      0.059      3.437      0.001       0.087       0.318\n",
      "WERT.L2        0.0586      0.060      0.971      0.331      -0.060       0.177\n",
      "WERT.L3        0.0903      0.060      1.514      0.130      -0.027       0.207\n",
      "WERT.L4       -0.0039      0.060     -0.065      0.948      -0.120       0.113\n",
      "WERT.L5       -0.0416      0.059     -0.700      0.484      -0.158       0.075\n",
      "WERT.L6       -0.1108      0.059     -1.880      0.060      -0.226       0.005\n",
      "WERT.L7       -0.0066      0.058     -0.114      0.910      -0.120       0.107\n",
      "WERT.L8       -0.0234      0.057     -0.408      0.683      -0.135       0.089\n",
      "WERT.L9        0.0971      0.057      1.691      0.091      -0.015       0.210\n",
      "WERT.L10       0.1334      0.057      2.325      0.020       0.021       0.246\n",
      "WERT.L11       0.0819      0.057      1.438      0.150      -0.030       0.193\n",
      "WERT.L12       0.3880      0.056      6.880      0.000       0.277       0.498\n",
      "                                    Roots                                     \n",
      "==============================================================================\n",
      "                   Real          Imaginary           Modulus         Frequency\n",
      "------------------------------------------------------------------------------\n",
      "AR.1             1.0170           -0.0000j            1.0170           -0.0000\n",
      "AR.2             0.8743           -0.5099j            1.0122           -0.0840\n",
      "AR.3             0.8743           +0.5099j            1.0122            0.0840\n",
      "AR.4             0.5369           -0.9838j            1.1208           -0.1705\n",
      "AR.5             0.5369           +0.9838j            1.1208            0.1705\n",
      "AR.6            -1.1275           -0.0000j            1.1275           -0.5000\n",
      "AR.7            -0.9376           -0.5476j            1.0857           -0.4159\n",
      "AR.8            -0.9376           +0.5476j            1.0857            0.4159\n",
      "AR.9             0.0035           -1.1057j            1.1057           -0.2495\n",
      "AR.10            0.0035           +1.1057j            1.1057            0.2495\n",
      "AR.11           -0.5274           -0.9664j            1.1010           -0.3295\n",
      "AR.12           -0.5274           +0.9664j            1.1010            0.3295\n",
      "------------------------------------------------------------------------------\n"
     ]
    }
   ],
   "source": [
    "#\n",
    "# Instantiate and fit the AR model with training data\n",
    "#\n",
    "ar_model = AutoReg(train_data, lags=12).fit()\n",
    "#\n",
    "# Print Summary\n",
    "#\n",
    "print(ar_model.summary())"
   ]
  },
  {
   "cell_type": "markdown",
   "id": "74142537",
   "metadata": {},
   "source": [
    "### Evaluate"
   ]
  },
  {
   "cell_type": "code",
   "execution_count": 218,
   "id": "bdd26712",
   "metadata": {},
   "outputs": [],
   "source": [
    "# Make the predictions\n",
    "pred = ar_model.predict(start=len(train_data), end=(len(df)-1), dynamic=False)"
   ]
  },
  {
   "cell_type": "code",
   "execution_count": 219,
   "id": "50f62485",
   "metadata": {
    "code_folding": [
     0
    ]
   },
   "outputs": [
    {
     "data": {
      "text/plain": [
       "[<matplotlib.lines.Line2D at 0x14883e820>]"
      ]
     },
     "execution_count": 219,
     "metadata": {},
     "output_type": "execute_result"
    },
    {
     "data": {
      "image/png": "[encoded data removed]",
      "text/plain": [
       "<Figure size 432x288 with 1 Axes>"
      ]
     },
     "metadata": {
      "needs_background": "light"
     },
     "output_type": "display_data"
    }
   ],
   "source": [
    "# Plot the prediction vs test data\n",
    "from matplotlib import pyplot\n",
    "pyplot.plot(pred)\n",
    "pyplot.plot(test_data, color='red')"
   ]
  },
  {
   "cell_type": "code",
   "execution_count": 220,
   "id": "0789347a",
   "metadata": {},
   "outputs": [
    {
     "name": "stdout",
     "output_type": "stream",
     "text": [
      "10.271014466414943\n"
     ]
    }
   ],
   "source": [
    "from sklearn.metrics import mean_squared_error\n",
    "import math\n",
    "print(math.sqrt(mean_squared_error(test_data, pred)))\n"
   ]
  },
  {
   "cell_type": "markdown",
   "id": "2c30c31f",
   "metadata": {},
   "source": [
    "### Save model"
   ]
  },
  {
   "cell_type": "code",
   "execution_count": 185,
   "id": "cd84c519",
   "metadata": {},
   "outputs": [],
   "source": [
    "ar_model.save('ar_model_2020_12.pickle')"
   ]
  },
  {
   "cell_type": "code",
   "execution_count": 162,
   "id": "5322f046",
   "metadata": {},
   "outputs": [],
   "source": [
    "from statsmodels.tsa.ar_model import AutoRegResultsWrapper"
   ]
  },
  {
   "cell_type": "code",
   "execution_count": 191,
   "id": "09b0dbfe",
   "metadata": {},
   "outputs": [
    {
     "data": {
      "text/plain": [
       "statsmodels.tsa.ar_model.AutoRegResultsWrapper"
      ]
     },
     "execution_count": 191,
     "metadata": {},
     "output_type": "execute_result"
    }
   ],
   "source": [
    "# Try to reload save models and make prediction\n",
    "new_results = AutoRegResultsWrapper.load(\"ar_model_2020_12.pickle\")\n",
    "type(new_results)"
   ]
  },
  {
   "cell_type": "code",
   "execution_count": 192,
   "id": "e9b75b3a",
   "metadata": {},
   "outputs": [
    {
     "data": {
      "text/plain": [
       "264    24.730163\n",
       "265    28.257396\n",
       "dtype: float64"
      ]
     },
     "execution_count": 192,
     "metadata": {},
     "output_type": "execute_result"
    }
   ],
   "source": [
    "new_results.predict(start=264, end=265, dynamic=False)"
   ]
  },
  {
   "cell_type": "markdown",
   "id": "a80ad711",
   "metadata": {},
   "source": [
    "## ARMA"
   ]
  },
  {
   "cell_type": "markdown",
   "id": "9f75135f",
   "metadata": {},
   "source": [
    "### Training"
   ]
  },
  {
   "cell_type": "code",
   "execution_count": 193,
   "id": "1ead4fd1",
   "metadata": {},
   "outputs": [
    {
     "name": "stderr",
     "output_type": "stream",
     "text": [
      "/Users/cuonghn/opt/miniconda3/envs/visualize/lib/python3.9/site-packages/statsmodels/tsa/statespace/sarimax.py:966: UserWarning: Non-stationary starting autoregressive parameters found. Using zeros as starting parameters.\n",
      "  warn('Non-stationary starting autoregressive parameters'\n",
      "/Users/cuonghn/opt/miniconda3/envs/visualize/lib/python3.9/site-packages/statsmodels/tsa/statespace/sarimax.py:978: UserWarning: Non-invertible starting MA parameters found. Using zeros as starting parameters.\n",
      "  warn('Non-invertible starting MA parameters found.'\n"
     ]
    },
    {
     "name": "stdout",
     "output_type": "stream",
     "text": [
      "Coefficients:\n",
      "const     43.761327\n",
      "ar.L1     -0.453562\n",
      "ar.L2     -0.300305\n",
      "ar.L3      0.035141\n",
      "ar.L4      0.444494\n",
      "ar.L5      0.284186\n",
      "ar.L6     -0.018311\n",
      "ar.L7     -0.422787\n",
      "ar.L8     -0.337106\n",
      "ar.L9      0.063348\n",
      "ar.L10     0.356188\n",
      "ar.L11     0.504366\n",
      "ar.L12     0.826816\n",
      "ma.L1      0.643361\n",
      "ma.L2      0.536394\n",
      "ma.L3      0.270368\n",
      "ma.L4     -0.206856\n",
      "ma.L5     -0.086165\n",
      "ma.L6      0.063001\n",
      "ma.L7      0.546189\n",
      "ma.L8      0.472056\n",
      "ma.L9      0.189811\n",
      "ma.L10    -0.031134\n",
      "ma.L11    -0.379863\n",
      "ma.L12    -0.509036\n",
      "sigma2    72.291342\n",
      "dtype: float64\n"
     ]
    },
    {
     "name": "stderr",
     "output_type": "stream",
     "text": [
      "/Users/cuonghn/opt/miniconda3/envs/visualize/lib/python3.9/site-packages/statsmodels/base/model.py:604: ConvergenceWarning: Maximum Likelihood optimization failed to converge. Check mle_retvals\n",
      "  warnings.warn(\"Maximum Likelihood optimization failed to \"\n"
     ]
    }
   ],
   "source": [
    "from statsmodels.tsa.arima.model import ARIMA\n",
    "model_arma = ARIMA(endog = train_data, \\\n",
    "                   order = (12, 0, 12))\n",
    "# endog: dependent variable, response variable or y (endogenous)\n",
    "# order: order of the model for the autoregressive, \n",
    "#        differences & moving average components.\n",
    "fit_arma = model_arma.fit()\n",
    "print(\"Coefficients:\\n%s\" % fit_arma.params)"
   ]
  },
  {
   "cell_type": "markdown",
   "id": "9bc870db",
   "metadata": {},
   "source": [
    "### Evaluate"
   ]
  },
  {
   "cell_type": "code",
   "execution_count": 194,
   "id": "0e91e5e3",
   "metadata": {},
   "outputs": [],
   "source": [
    "# Make the predictions\n",
    "pred = fit_arma.predict(start=len(train_data), end=(len(df)-1), dynamic=False)"
   ]
  },
  {
   "cell_type": "code",
   "execution_count": 195,
   "id": "ed485d60",
   "metadata": {},
   "outputs": [
    {
     "data": {
      "text/plain": [
       "[<matplotlib.lines.Line2D at 0x14859d520>]"
      ]
     },
     "execution_count": 195,
     "metadata": {},
     "output_type": "execute_result"
    },
    {
     "data": {
      "image/png": "[encoded data removed]",
      "text/plain": [
       "<Figure size 432x288 with 1 Axes>"
      ]
     },
     "metadata": {
      "needs_background": "light"
     },
     "output_type": "display_data"
    }
   ],
   "source": [
    "#\n",
    "# Plot the prediction vs test data\n",
    "#\n",
    "from matplotlib import pyplot\n",
    "pyplot.plot(pred)\n",
    "pyplot.plot(test_data, color='red')"
   ]
  },
  {
   "cell_type": "code",
   "execution_count": 196,
   "id": "29fb74a6",
   "metadata": {},
   "outputs": [
    {
     "name": "stdout",
     "output_type": "stream",
     "text": [
      "8.968876748832997\n"
     ]
    }
   ],
   "source": [
    "from sklearn.metrics import mean_squared_error\n",
    "import math\n",
    "print(math.sqrt(mean_squared_error(test_data, pred)))\n"
   ]
  },
  {
   "cell_type": "markdown",
   "id": "142d471d",
   "metadata": {},
   "source": [
    "### Save model"
   ]
  },
  {
   "cell_type": "code",
   "execution_count": 212,
   "id": "ac09282a",
   "metadata": {},
   "outputs": [],
   "source": [
    "fit_arma.save('arma_model_2020_12.pickle')"
   ]
  },
  {
   "cell_type": "code",
   "execution_count": 214,
   "id": "fed472d2",
   "metadata": {},
   "outputs": [],
   "source": [
    "from statsmodels.tsa.arima.model import ARIMAResultsWrapper"
   ]
  },
  {
   "cell_type": "code",
   "execution_count": 215,
   "id": "8bf33793",
   "metadata": {},
   "outputs": [
    {
     "data": {
      "text/plain": [
       "statsmodels.tsa.arima.model.ARIMAResultsWrapper"
      ]
     },
     "execution_count": 215,
     "metadata": {},
     "output_type": "execute_result"
    }
   ],
   "source": [
    "# Try to reload save models and make prediction\n",
    "loaded_model = ARIMAResultsWrapper.load(\"arma_model_2020_12.pickle\")\n",
    "type(loaded_model)"
   ]
  },
  {
   "cell_type": "code",
   "execution_count": 216,
   "id": "420b868d",
   "metadata": {},
   "outputs": [
    {
     "data": {
      "text/plain": [
       "264    23.722268\n",
       "265    27.520678\n",
       "Name: predicted_mean, dtype: float64"
      ]
     },
     "execution_count": 216,
     "metadata": {},
     "output_type": "execute_result"
    }
   ],
   "source": [
    "loaded_model.predict(start=264, end=265, dynamic=False)"
   ]
  },
  {
   "cell_type": "markdown",
   "id": "7af09d1f",
   "metadata": {},
   "source": [
    "## Porphet"
   ]
  },
  {
   "cell_type": "markdown",
   "id": "cf3ebe8d",
   "metadata": {},
   "source": [
    "### Training"
   ]
  },
  {
   "cell_type": "code",
   "execution_count": 197,
   "id": "bd61a7f0",
   "metadata": {},
   "outputs": [],
   "source": [
    "from prophet import Prophet"
   ]
  },
  {
   "cell_type": "code",
   "execution_count": 198,
   "id": "75ff5720",
   "metadata": {},
   "outputs": [
    {
     "data": {
      "text/html": [
       "<div>\n",
       "<style scoped>\n",
       "    .dataframe tbody tr th:only-of-type {\n",
       "        vertical-align: middle;\n",
       "    }\n",
       "\n",
       "    .dataframe tbody tr th {\n",
       "        vertical-align: top;\n",
       "    }\n",
       "\n",
       "    .dataframe thead th {\n",
       "        text-align: right;\n",
       "    }\n",
       "</style>\n",
       "<table border=\"1\" class=\"dataframe\">\n",
       "  <thead>\n",
       "    <tr style=\"text-align: right;\">\n",
       "      <th></th>\n",
       "      <th>MONATSZAHL</th>\n",
       "      <th>AUSPRAEGUNG</th>\n",
       "      <th>JAHR</th>\n",
       "      <th>MONAT</th>\n",
       "      <th>WERT</th>\n",
       "      <th>VORJAHRESWERT</th>\n",
       "      <th>VERAEND_VORMONAT_PROZENT</th>\n",
       "      <th>VERAEND_VORJAHRESMONAT_PROZENT</th>\n",
       "      <th>ZWOELF_MONATE_MITTELWERT</th>\n",
       "      <th>MONTH</th>\n",
       "    </tr>\n",
       "  </thead>\n",
       "  <tbody>\n",
       "    <tr>\n",
       "      <th>0</th>\n",
       "      <td>Alkoholunfälle</td>\n",
       "      <td>insgesamt</td>\n",
       "      <td>2000</td>\n",
       "      <td>200001</td>\n",
       "      <td>78.0</td>\n",
       "      <td>NaN</td>\n",
       "      <td>NaN</td>\n",
       "      <td>NaN</td>\n",
       "      <td>78.0</td>\n",
       "      <td>2000-01-01</td>\n",
       "    </tr>\n",
       "    <tr>\n",
       "      <th>1</th>\n",
       "      <td>Alkoholunfälle</td>\n",
       "      <td>insgesamt</td>\n",
       "      <td>2000</td>\n",
       "      <td>200002</td>\n",
       "      <td>53.0</td>\n",
       "      <td>NaN</td>\n",
       "      <td>-32.05</td>\n",
       "      <td>NaN</td>\n",
       "      <td>66.0</td>\n",
       "      <td>2000-02-01</td>\n",
       "    </tr>\n",
       "    <tr>\n",
       "      <th>2</th>\n",
       "      <td>Alkoholunfälle</td>\n",
       "      <td>insgesamt</td>\n",
       "      <td>2000</td>\n",
       "      <td>200003</td>\n",
       "      <td>73.0</td>\n",
       "      <td>NaN</td>\n",
       "      <td>37.74</td>\n",
       "      <td>NaN</td>\n",
       "      <td>68.0</td>\n",
       "      <td>2000-03-01</td>\n",
       "    </tr>\n",
       "    <tr>\n",
       "      <th>3</th>\n",
       "      <td>Alkoholunfälle</td>\n",
       "      <td>insgesamt</td>\n",
       "      <td>2000</td>\n",
       "      <td>200004</td>\n",
       "      <td>78.0</td>\n",
       "      <td>NaN</td>\n",
       "      <td>6.85</td>\n",
       "      <td>NaN</td>\n",
       "      <td>71.0</td>\n",
       "      <td>2000-04-01</td>\n",
       "    </tr>\n",
       "    <tr>\n",
       "      <th>4</th>\n",
       "      <td>Alkoholunfälle</td>\n",
       "      <td>insgesamt</td>\n",
       "      <td>2000</td>\n",
       "      <td>200005</td>\n",
       "      <td>96.0</td>\n",
       "      <td>NaN</td>\n",
       "      <td>23.08</td>\n",
       "      <td>NaN</td>\n",
       "      <td>76.0</td>\n",
       "      <td>2000-05-01</td>\n",
       "    </tr>\n",
       "  </tbody>\n",
       "</table>\n",
       "</div>"
      ],
      "text/plain": [
       "       MONATSZAHL AUSPRAEGUNG  JAHR   MONAT  WERT  VORJAHRESWERT  \\\n",
       "0  Alkoholunfälle   insgesamt  2000  200001  78.0            NaN   \n",
       "1  Alkoholunfälle   insgesamt  2000  200002  53.0            NaN   \n",
       "2  Alkoholunfälle   insgesamt  2000  200003  73.0            NaN   \n",
       "3  Alkoholunfälle   insgesamt  2000  200004  78.0            NaN   \n",
       "4  Alkoholunfälle   insgesamt  2000  200005  96.0            NaN   \n",
       "\n",
       "   VERAEND_VORMONAT_PROZENT  VERAEND_VORJAHRESMONAT_PROZENT  \\\n",
       "0                       NaN                             NaN   \n",
       "1                    -32.05                             NaN   \n",
       "2                     37.74                             NaN   \n",
       "3                      6.85                             NaN   \n",
       "4                     23.08                             NaN   \n",
       "\n",
       "   ZWOELF_MONATE_MITTELWERT      MONTH  \n",
       "0                      78.0 2000-01-01  \n",
       "1                      66.0 2000-02-01  \n",
       "2                      68.0 2000-03-01  \n",
       "3                      71.0 2000-04-01  \n",
       "4                      76.0 2000-05-01  "
      ]
     },
     "execution_count": 198,
     "metadata": {},
     "output_type": "execute_result"
    }
   ],
   "source": [
    "df.head()"
   ]
  },
  {
   "cell_type": "code",
   "execution_count": 199,
   "id": "c1c25d15",
   "metadata": {},
   "outputs": [],
   "source": [
    "df2 = df[['MONTH', 'WERT']]\n",
    "df2.columns = ['ds', 'y']"
   ]
  },
  {
   "cell_type": "code",
   "execution_count": 200,
   "id": "a7310491",
   "metadata": {},
   "outputs": [],
   "source": [
    "train_data = df2[:len(df)-12]\n",
    "test_data = df2[len(df)-12:]"
   ]
  },
  {
   "cell_type": "code",
   "execution_count": 201,
   "id": "f644f030",
   "metadata": {},
   "outputs": [
    {
     "name": "stderr",
     "output_type": "stream",
     "text": [
      "08:54:59 - cmdstanpy - INFO - Chain [1] start processing\n",
      "08:55:00 - cmdstanpy - INFO - Chain [1] done processing\n"
     ]
    },
    {
     "data": {
      "text/plain": [
       "<prophet.forecaster.Prophet at 0x1486447c0>"
      ]
     },
     "execution_count": 201,
     "metadata": {},
     "output_type": "execute_result"
    }
   ],
   "source": [
    "m = Prophet()\n",
    "m.fit(train_data)"
   ]
  },
  {
   "cell_type": "markdown",
   "id": "f561f502",
   "metadata": {},
   "source": [
    "### Evaluate"
   ]
  },
  {
   "cell_type": "code",
   "execution_count": 202,
   "id": "438dd09f",
   "metadata": {},
   "outputs": [
    {
     "data": {
      "text/html": [
       "<div>\n",
       "<style scoped>\n",
       "    .dataframe tbody tr th:only-of-type {\n",
       "        vertical-align: middle;\n",
       "    }\n",
       "\n",
       "    .dataframe tbody tr th {\n",
       "        vertical-align: top;\n",
       "    }\n",
       "\n",
       "    .dataframe thead th {\n",
       "        text-align: right;\n",
       "    }\n",
       "</style>\n",
       "<table border=\"1\" class=\"dataframe\">\n",
       "  <thead>\n",
       "    <tr style=\"text-align: right;\">\n",
       "      <th></th>\n",
       "      <th>ds</th>\n",
       "    </tr>\n",
       "  </thead>\n",
       "  <tbody>\n",
       "    <tr>\n",
       "      <th>259</th>\n",
       "      <td>2021-08-01</td>\n",
       "    </tr>\n",
       "    <tr>\n",
       "      <th>260</th>\n",
       "      <td>2021-09-01</td>\n",
       "    </tr>\n",
       "    <tr>\n",
       "      <th>261</th>\n",
       "      <td>2021-10-01</td>\n",
       "    </tr>\n",
       "    <tr>\n",
       "      <th>262</th>\n",
       "      <td>2021-11-01</td>\n",
       "    </tr>\n",
       "    <tr>\n",
       "      <th>263</th>\n",
       "      <td>2021-12-01</td>\n",
       "    </tr>\n",
       "  </tbody>\n",
       "</table>\n",
       "</div>"
      ],
      "text/plain": [
       "            ds\n",
       "259 2021-08-01\n",
       "260 2021-09-01\n",
       "261 2021-10-01\n",
       "262 2021-11-01\n",
       "263 2021-12-01"
      ]
     },
     "execution_count": 202,
     "metadata": {},
     "output_type": "execute_result"
    }
   ],
   "source": [
    "future = test_data[['ds']]\n",
    "future.tail()"
   ]
  },
  {
   "cell_type": "code",
   "execution_count": 203,
   "id": "eb72ef34",
   "metadata": {
    "scrolled": true
   },
   "outputs": [
    {
     "data": {
      "text/html": [
       "<div>\n",
       "<style scoped>\n",
       "    .dataframe tbody tr th:only-of-type {\n",
       "        vertical-align: middle;\n",
       "    }\n",
       "\n",
       "    .dataframe tbody tr th {\n",
       "        vertical-align: top;\n",
       "    }\n",
       "\n",
       "    .dataframe thead th {\n",
       "        text-align: right;\n",
       "    }\n",
       "</style>\n",
       "<table border=\"1\" class=\"dataframe\">\n",
       "  <thead>\n",
       "    <tr style=\"text-align: right;\">\n",
       "      <th></th>\n",
       "      <th>ds</th>\n",
       "      <th>trend</th>\n",
       "      <th>yhat_lower</th>\n",
       "      <th>yhat_upper</th>\n",
       "      <th>trend_lower</th>\n",
       "      <th>trend_upper</th>\n",
       "      <th>additive_terms</th>\n",
       "      <th>additive_terms_lower</th>\n",
       "      <th>additive_terms_upper</th>\n",
       "      <th>yearly</th>\n",
       "      <th>yearly_lower</th>\n",
       "      <th>yearly_upper</th>\n",
       "      <th>multiplicative_terms</th>\n",
       "      <th>multiplicative_terms_lower</th>\n",
       "      <th>multiplicative_terms_upper</th>\n",
       "      <th>yhat</th>\n",
       "    </tr>\n",
       "  </thead>\n",
       "  <tbody>\n",
       "    <tr>\n",
       "      <th>0</th>\n",
       "      <td>2021-01-01</td>\n",
       "      <td>32.829353</td>\n",
       "      <td>11.759773</td>\n",
       "      <td>31.342699</td>\n",
       "      <td>32.829353</td>\n",
       "      <td>32.829353</td>\n",
       "      <td>-11.074894</td>\n",
       "      <td>-11.074894</td>\n",
       "      <td>-11.074894</td>\n",
       "      <td>-11.074894</td>\n",
       "      <td>-11.074894</td>\n",
       "      <td>-11.074894</td>\n",
       "      <td>0.0</td>\n",
       "      <td>0.0</td>\n",
       "      <td>0.0</td>\n",
       "      <td>21.754459</td>\n",
       "    </tr>\n",
       "    <tr>\n",
       "      <th>1</th>\n",
       "      <td>2021-02-01</td>\n",
       "      <td>32.829523</td>\n",
       "      <td>12.346605</td>\n",
       "      <td>31.381548</td>\n",
       "      <td>32.829523</td>\n",
       "      <td>32.829523</td>\n",
       "      <td>-10.983268</td>\n",
       "      <td>-10.983268</td>\n",
       "      <td>-10.983268</td>\n",
       "      <td>-10.983268</td>\n",
       "      <td>-10.983268</td>\n",
       "      <td>-10.983268</td>\n",
       "      <td>0.0</td>\n",
       "      <td>0.0</td>\n",
       "      <td>0.0</td>\n",
       "      <td>21.846256</td>\n",
       "    </tr>\n",
       "    <tr>\n",
       "      <th>2</th>\n",
       "      <td>2021-03-01</td>\n",
       "      <td>32.829678</td>\n",
       "      <td>14.212027</td>\n",
       "      <td>34.386064</td>\n",
       "      <td>32.826688</td>\n",
       "      <td>32.833530</td>\n",
       "      <td>-8.011021</td>\n",
       "      <td>-8.011021</td>\n",
       "      <td>-8.011021</td>\n",
       "      <td>-8.011021</td>\n",
       "      <td>-8.011021</td>\n",
       "      <td>-8.011021</td>\n",
       "      <td>0.0</td>\n",
       "      <td>0.0</td>\n",
       "      <td>0.0</td>\n",
       "      <td>24.818657</td>\n",
       "    </tr>\n",
       "    <tr>\n",
       "      <th>3</th>\n",
       "      <td>2021-04-01</td>\n",
       "      <td>32.829849</td>\n",
       "      <td>18.720083</td>\n",
       "      <td>38.979024</td>\n",
       "      <td>32.819493</td>\n",
       "      <td>32.842391</td>\n",
       "      <td>-4.466797</td>\n",
       "      <td>-4.466797</td>\n",
       "      <td>-4.466797</td>\n",
       "      <td>-4.466797</td>\n",
       "      <td>-4.466797</td>\n",
       "      <td>-4.466797</td>\n",
       "      <td>0.0</td>\n",
       "      <td>0.0</td>\n",
       "      <td>0.0</td>\n",
       "      <td>28.363052</td>\n",
       "    </tr>\n",
       "    <tr>\n",
       "      <th>4</th>\n",
       "      <td>2021-05-01</td>\n",
       "      <td>32.830014</td>\n",
       "      <td>29.452397</td>\n",
       "      <td>48.499813</td>\n",
       "      <td>32.810812</td>\n",
       "      <td>32.853866</td>\n",
       "      <td>6.372872</td>\n",
       "      <td>6.372872</td>\n",
       "      <td>6.372872</td>\n",
       "      <td>6.372872</td>\n",
       "      <td>6.372872</td>\n",
       "      <td>6.372872</td>\n",
       "      <td>0.0</td>\n",
       "      <td>0.0</td>\n",
       "      <td>0.0</td>\n",
       "      <td>39.202886</td>\n",
       "    </tr>\n",
       "  </tbody>\n",
       "</table>\n",
       "</div>"
      ],
      "text/plain": [
       "          ds      trend  yhat_lower  yhat_upper  trend_lower  trend_upper  \\\n",
       "0 2021-01-01  32.829353   11.759773   31.342699    32.829353    32.829353   \n",
       "1 2021-02-01  32.829523   12.346605   31.381548    32.829523    32.829523   \n",
       "2 2021-03-01  32.829678   14.212027   34.386064    32.826688    32.833530   \n",
       "3 2021-04-01  32.829849   18.720083   38.979024    32.819493    32.842391   \n",
       "4 2021-05-01  32.830014   29.452397   48.499813    32.810812    32.853866   \n",
       "\n",
       "   additive_terms  additive_terms_lower  additive_terms_upper     yearly  \\\n",
       "0      -11.074894            -11.074894            -11.074894 -11.074894   \n",
       "1      -10.983268            -10.983268            -10.983268 -10.983268   \n",
       "2       -8.011021             -8.011021             -8.011021  -8.011021   \n",
       "3       -4.466797             -4.466797             -4.466797  -4.466797   \n",
       "4        6.372872              6.372872              6.372872   6.372872   \n",
       "\n",
       "   yearly_lower  yearly_upper  multiplicative_terms  \\\n",
       "0    -11.074894    -11.074894                   0.0   \n",
       "1    -10.983268    -10.983268                   0.0   \n",
       "2     -8.011021     -8.011021                   0.0   \n",
       "3     -4.466797     -4.466797                   0.0   \n",
       "4      6.372872      6.372872                   0.0   \n",
       "\n",
       "   multiplicative_terms_lower  multiplicative_terms_upper       yhat  \n",
       "0                         0.0                         0.0  21.754459  \n",
       "1                         0.0                         0.0  21.846256  \n",
       "2                         0.0                         0.0  24.818657  \n",
       "3                         0.0                         0.0  28.363052  \n",
       "4                         0.0                         0.0  39.202886  "
      ]
     },
     "execution_count": 203,
     "metadata": {},
     "output_type": "execute_result"
    }
   ],
   "source": [
    "forecast = m.predict(future)\n",
    "forecast.head()"
   ]
  },
  {
   "cell_type": "code",
   "execution_count": 204,
   "id": "fd2c325d",
   "metadata": {},
   "outputs": [
    {
     "data": {
      "image/png": "[encoded data removed]",
      "text/plain": [
       "<Figure size 720x432 with 1 Axes>"
      ]
     },
     "metadata": {},
     "output_type": "display_data"
    }
   ],
   "source": [
    "fig1 = m.plot(forecast)\n"
   ]
  },
  {
   "cell_type": "code",
   "execution_count": 205,
   "id": "3cb4d46a",
   "metadata": {},
   "outputs": [
    {
     "name": "stdout",
     "output_type": "stream",
     "text": [
      "8.617811255999623\n"
     ]
    }
   ],
   "source": [
    "from sklearn.metrics import mean_squared_error\n",
    "print(math.sqrt(mean_squared_error(test_data['y'], forecast['yhat'])))\n"
   ]
  },
  {
   "cell_type": "markdown",
   "id": "7c22ccce",
   "metadata": {},
   "source": [
    "# Grid search\n",
    "- I decided to go for AR, ARMA because they have not bad RMSE, plus simplicity and high explainability\n",
    "- Now grid search for some hyper params"
   ]
  },
  {
   "cell_type": "markdown",
   "id": "e3b1f993",
   "metadata": {},
   "source": [
    "## Auto Regression model"
   ]
  },
  {
   "cell_type": "code",
   "execution_count": 221,
   "id": "9255a44d",
   "metadata": {},
   "outputs": [
    {
     "name": "stdout",
     "output_type": "stream",
     "text": [
      "Lag  6 11.204944116549223\n",
      "Lag  12 10.271014466414943\n",
      "Lag  18 11.013690552853783\n",
      "Lag  24 10.239429062574605\n"
     ]
    }
   ],
   "source": [
    "for lag in [6, 12, 18, 24]:\n",
    "    ar_model = AutoReg(train_data, lags=lag).fit()\n",
    "    pred = ar_model.predict(start=len(train_data), end=(len(df)-1), dynamic=False)\n",
    "    print(\"Lag \", lag, math.sqrt(mean_squared_error(test_data, pred)))\n"
   ]
  },
  {
   "cell_type": "markdown",
   "id": "313e5da4",
   "metadata": {},
   "source": [
    "## ARMA model"
   ]
  },
  {
   "cell_type": "code",
   "execution_count": 224,
   "id": "25420bd6",
   "metadata": {},
   "outputs": [
    {
     "name": "stderr",
     "output_type": "stream",
     "text": [
      "/Users/cuonghn/opt/miniconda3/envs/visualize/lib/python3.9/site-packages/statsmodels/base/model.py:604: ConvergenceWarning: Maximum Likelihood optimization failed to converge. Check mle_retvals\n",
      "  warnings.warn(\"Maximum Likelihood optimization failed to \"\n"
     ]
    },
    {
     "name": "stdout",
     "output_type": "stream",
     "text": [
      "Lag 6, ma_lag 6 9.297222626573769\n"
     ]
    },
    {
     "name": "stderr",
     "output_type": "stream",
     "text": [
      "/Users/cuonghn/opt/miniconda3/envs/visualize/lib/python3.9/site-packages/statsmodels/base/model.py:604: ConvergenceWarning: Maximum Likelihood optimization failed to converge. Check mle_retvals\n",
      "  warnings.warn(\"Maximum Likelihood optimization failed to \"\n"
     ]
    },
    {
     "name": "stdout",
     "output_type": "stream",
     "text": [
      "Lag 6, ma_lag 12 9.670853042858065\n"
     ]
    },
    {
     "name": "stderr",
     "output_type": "stream",
     "text": [
      "/Users/cuonghn/opt/miniconda3/envs/visualize/lib/python3.9/site-packages/statsmodels/base/model.py:604: ConvergenceWarning: Maximum Likelihood optimization failed to converge. Check mle_retvals\n",
      "  warnings.warn(\"Maximum Likelihood optimization failed to \"\n"
     ]
    },
    {
     "name": "stdout",
     "output_type": "stream",
     "text": [
      "Lag 6, ma_lag 24 7.682160071871193\n"
     ]
    },
    {
     "name": "stderr",
     "output_type": "stream",
     "text": [
      "/Users/cuonghn/opt/miniconda3/envs/visualize/lib/python3.9/site-packages/statsmodels/tsa/statespace/sarimax.py:966: UserWarning: Non-stationary starting autoregressive parameters found. Using zeros as starting parameters.\n",
      "  warn('Non-stationary starting autoregressive parameters'\n",
      "/Users/cuonghn/opt/miniconda3/envs/visualize/lib/python3.9/site-packages/statsmodels/tsa/statespace/sarimax.py:978: UserWarning: Non-invertible starting MA parameters found. Using zeros as starting parameters.\n",
      "  warn('Non-invertible starting MA parameters found.'\n",
      "/Users/cuonghn/opt/miniconda3/envs/visualize/lib/python3.9/site-packages/statsmodels/base/model.py:604: ConvergenceWarning: Maximum Likelihood optimization failed to converge. Check mle_retvals\n",
      "  warnings.warn(\"Maximum Likelihood optimization failed to \"\n",
      "/Users/cuonghn/opt/miniconda3/envs/visualize/lib/python3.9/site-packages/statsmodels/tsa/statespace/sarimax.py:966: UserWarning: Non-stationary starting autoregressive parameters found. Using zeros as starting parameters.\n",
      "  warn('Non-stationary starting autoregressive parameters'\n",
      "/Users/cuonghn/opt/miniconda3/envs/visualize/lib/python3.9/site-packages/statsmodels/tsa/statespace/sarimax.py:978: UserWarning: Non-invertible starting MA parameters found. Using zeros as starting parameters.\n",
      "  warn('Non-invertible starting MA parameters found.'\n"
     ]
    },
    {
     "name": "stdout",
     "output_type": "stream",
     "text": [
      "Lag 12, ma_lag 6 9.81836926769033\n"
     ]
    },
    {
     "name": "stderr",
     "output_type": "stream",
     "text": [
      "/Users/cuonghn/opt/miniconda3/envs/visualize/lib/python3.9/site-packages/statsmodels/base/model.py:604: ConvergenceWarning: Maximum Likelihood optimization failed to converge. Check mle_retvals\n",
      "  warnings.warn(\"Maximum Likelihood optimization failed to \"\n"
     ]
    },
    {
     "name": "stdout",
     "output_type": "stream",
     "text": [
      "Lag 12, ma_lag 12 8.968876748832997\n"
     ]
    },
    {
     "name": "stderr",
     "output_type": "stream",
     "text": [
      "/Users/cuonghn/opt/miniconda3/envs/visualize/lib/python3.9/site-packages/statsmodels/base/model.py:604: ConvergenceWarning: Maximum Likelihood optimization failed to converge. Check mle_retvals\n",
      "  warnings.warn(\"Maximum Likelihood optimization failed to \"\n"
     ]
    },
    {
     "name": "stdout",
     "output_type": "stream",
     "text": [
      "Lag 12, ma_lag 24 11.802460190807608\n"
     ]
    },
    {
     "name": "stderr",
     "output_type": "stream",
     "text": [
      "/Users/cuonghn/opt/miniconda3/envs/visualize/lib/python3.9/site-packages/statsmodels/base/model.py:604: ConvergenceWarning: Maximum Likelihood optimization failed to converge. Check mle_retvals\n",
      "  warnings.warn(\"Maximum Likelihood optimization failed to \"\n",
      "/Users/cuonghn/opt/miniconda3/envs/visualize/lib/python3.9/site-packages/statsmodels/tsa/statespace/sarimax.py:978: UserWarning: Non-invertible starting MA parameters found. Using zeros as starting parameters.\n",
      "  warn('Non-invertible starting MA parameters found.'\n"
     ]
    },
    {
     "name": "stdout",
     "output_type": "stream",
     "text": [
      "Lag 24, ma_lag 6 10.264905258827104\n"
     ]
    },
    {
     "name": "stderr",
     "output_type": "stream",
     "text": [
      "/Users/cuonghn/opt/miniconda3/envs/visualize/lib/python3.9/site-packages/statsmodels/base/model.py:604: ConvergenceWarning: Maximum Likelihood optimization failed to converge. Check mle_retvals\n",
      "  warnings.warn(\"Maximum Likelihood optimization failed to \"\n"
     ]
    },
    {
     "name": "stdout",
     "output_type": "stream",
     "text": [
      "Lag 24, ma_lag 12 10.715365832344474\n"
     ]
    },
    {
     "name": "stderr",
     "output_type": "stream",
     "text": [
      "/Users/cuonghn/opt/miniconda3/envs/visualize/lib/python3.9/site-packages/statsmodels/tsa/statespace/sarimax.py:966: UserWarning: Non-stationary starting autoregressive parameters found. Using zeros as starting parameters.\n",
      "  warn('Non-stationary starting autoregressive parameters'\n",
      "/Users/cuonghn/opt/miniconda3/envs/visualize/lib/python3.9/site-packages/statsmodels/tsa/statespace/sarimax.py:978: UserWarning: Non-invertible starting MA parameters found. Using zeros as starting parameters.\n",
      "  warn('Non-invertible starting MA parameters found.'\n",
      "/Users/cuonghn/opt/miniconda3/envs/visualize/lib/python3.9/site-packages/statsmodels/base/model.py:604: ConvergenceWarning: Maximum Likelihood optimization failed to converge. Check mle_retvals\n",
      "  warnings.warn(\"Maximum Likelihood optimization failed to \"\n"
     ]
    },
    {
     "name": "stdout",
     "output_type": "stream",
     "text": [
      "Lag 24, ma_lag 24 9.601877833208091\n"
     ]
    }
   ],
   "source": [
    "from statsmodels.tsa.arima.model import ARIMA\n",
    "for lag in [6, 12, 24]:\n",
    "    for ma_lag in [6, 12, 24]:\n",
    "        model_arma = ARIMA(endog = train_data, order = (lag, 0, ma_lag))\n",
    "        model_arma = model_arma.fit()\n",
    "        # Make the predictions\n",
    "        pred = model_arma.predict(start=len(train_data), end=(len(df)-1), dynamic=False)\n",
    "        print(f\"Lag {lag}, ma_lag {ma_lag}\", math.sqrt(mean_squared_error(test_data, pred)))\n"
   ]
  },
  {
   "cell_type": "markdown",
   "id": "52929cb3",
   "metadata": {},
   "source": [
    "## Pick best model\n",
    "- ARMA with p=6 and q=24 is pick\n",
    "- Let's see how it work"
   ]
  },
  {
   "cell_type": "code",
   "execution_count": 225,
   "id": "0c707a1d",
   "metadata": {},
   "outputs": [
    {
     "name": "stdout",
     "output_type": "stream",
     "text": [
      "Coefficients:\n",
      "const     43.785766\n",
      "ar.L1      0.736486\n",
      "ar.L2      0.720206\n",
      "ar.L3     -0.056336\n",
      "ar.L4     -0.650538\n",
      "ar.L5     -0.665398\n",
      "ar.L6      0.912771\n",
      "ma.L1     -0.499847\n",
      "ma.L2     -0.748634\n",
      "ma.L3     -0.075827\n",
      "ma.L4      0.573855\n",
      "ma.L5      0.759434\n",
      "ma.L6     -0.898313\n",
      "ma.L7     -0.003978\n",
      "ma.L8      0.046115\n",
      "ma.L9      0.008323\n",
      "ma.L10     0.121712\n",
      "ma.L11    -0.162602\n",
      "ma.L12     0.149062\n",
      "ma.L13    -0.250122\n",
      "ma.L14     0.132853\n",
      "ma.L15     0.155014\n",
      "ma.L16     0.164721\n",
      "ma.L17    -0.126501\n",
      "ma.L18    -0.527092\n",
      "ma.L19     0.118537\n",
      "ma.L20     0.306884\n",
      "ma.L21     0.478345\n",
      "ma.L22    -0.270631\n",
      "ma.L23    -0.313068\n",
      "ma.L24     0.160535\n",
      "sigma2    70.782744\n",
      "dtype: float64\n"
     ]
    },
    {
     "name": "stderr",
     "output_type": "stream",
     "text": [
      "/Users/cuonghn/opt/miniconda3/envs/visualize/lib/python3.9/site-packages/statsmodels/base/model.py:604: ConvergenceWarning: Maximum Likelihood optimization failed to converge. Check mle_retvals\n",
      "  warnings.warn(\"Maximum Likelihood optimization failed to \"\n"
     ]
    }
   ],
   "source": [
    "from statsmodels.tsa.arima.model import ARIMA\n",
    "model_arma = ARIMA(endog = train_data, \\\n",
    "                   order = (6, 0, 24))\n",
    "# endog: dependent variable, response variable or y (endogenous)\n",
    "# order: order of the model for the autoregressive, \n",
    "#        differences & moving average components.\n",
    "fit_arma = model_arma.fit()\n",
    "print(\"Coefficients:\\n%s\" % fit_arma.params)"
   ]
  },
  {
   "cell_type": "markdown",
   "id": "fdc60f9b",
   "metadata": {},
   "source": [
    "### Evaluate"
   ]
  },
  {
   "cell_type": "code",
   "execution_count": 226,
   "id": "62c3f261",
   "metadata": {},
   "outputs": [],
   "source": [
    "# Make the predictions\n",
    "pred = fit_arma.predict(start=len(train_data), end=(len(df)-1), dynamic=False)"
   ]
  },
  {
   "cell_type": "code",
   "execution_count": 227,
   "id": "ca39ca7b",
   "metadata": {},
   "outputs": [
    {
     "data": {
      "text/plain": [
       "[<matplotlib.lines.Line2D at 0x1488939a0>]"
      ]
     },
     "execution_count": 227,
     "metadata": {},
     "output_type": "execute_result"
    },
    {
     "data": {
      "image/png": "[encoded data removed]",
      "text/plain": [
       "<Figure size 432x288 with 1 Axes>"
      ]
     },
     "metadata": {
      "needs_background": "light"
     },
     "output_type": "display_data"
    }
   ],
   "source": [
    "#\n",
    "# Plot the prediction vs test data\n",
    "#\n",
    "from matplotlib import pyplot\n",
    "pyplot.plot(pred)\n",
    "pyplot.plot(test_data, color='red')"
   ]
  },
  {
   "cell_type": "code",
   "execution_count": 228,
   "id": "cc218f92",
   "metadata": {},
   "outputs": [
    {
     "name": "stdout",
     "output_type": "stream",
     "text": [
      "7.682160071871193\n"
     ]
    }
   ],
   "source": [
    "print(math.sqrt(mean_squared_error(test_data, pred)))"
   ]
  },
  {
   "cell_type": "markdown",
   "id": "e7fe293a",
   "metadata": {},
   "source": [
    "### Save model"
   ]
  },
  {
   "cell_type": "code",
   "execution_count": 229,
   "id": "8e141c39",
   "metadata": {},
   "outputs": [],
   "source": [
    "fit_arma.save('arma_model_2020_12_p6_q24.pickle')"
   ]
  },
  {
   "cell_type": "code",
   "execution_count": 230,
   "id": "96f5f2c6",
   "metadata": {},
   "outputs": [],
   "source": [
    "from statsmodels.tsa.arima.model import ARIMAResultsWrapper"
   ]
  },
  {
   "cell_type": "code",
   "execution_count": 231,
   "id": "2c33422f",
   "metadata": {},
   "outputs": [
    {
     "data": {
      "text/plain": [
       "statsmodels.tsa.arima.model.ARIMAResultsWrapper"
      ]
     },
     "execution_count": 231,
     "metadata": {},
     "output_type": "execute_result"
    }
   ],
   "source": [
    "# Try to reload save models and make prediction\n",
    "loaded_model = ARIMAResultsWrapper.load(\"arma_model_2020_12_p6_q24.pickle\")\n",
    "type(loaded_model)"
   ]
  },
  {
   "cell_type": "code",
   "execution_count": 232,
   "id": "18a9b70d",
   "metadata": {},
   "outputs": [
    {
     "data": {
      "text/plain": [
       "264    22.087494\n",
       "265    16.875526\n",
       "Name: predicted_mean, dtype: float64"
      ]
     },
     "execution_count": 232,
     "metadata": {},
     "output_type": "execute_result"
    }
   ],
   "source": [
    "loaded_model.predict(start=264, end=265, dynamic=False)"
   ]
  }
 ],
 "metadata": {
  "kernelspec": {
   "display_name": "Python 3 (ipykernel)",
   "language": "python",
   "name": "python3"
  },
  "language_info": {
   "codemirror_mode": {
    "name": "ipython",
    "version": 3
   },
   "file_extension": ".py",
   "mimetype": "text/x-python",
   "name": "python",
   "nbconvert_exporter": "python",
   "pygments_lexer": "ipython3",
   "version": "3.9.9"
  },
  "toc": {
   "base_numbering": 1,
   "nav_menu": {},
   "number_sections": false,
   "sideBar": true,
   "skip_h1_title": false,
   "title_cell": "Table of Contents",
   "title_sidebar": "Contents",
   "toc_cell": false,
   "toc_position": {},
   "toc_section_display": true,
   "toc_window_display": true
  }
 },
 "nbformat": 4,
 "nbformat_minor": 5
}
